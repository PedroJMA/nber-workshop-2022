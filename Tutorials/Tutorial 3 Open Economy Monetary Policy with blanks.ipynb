{
 "cells": [
  {
   "cell_type": "markdown",
   "metadata": {
    "pycharm": {
     "name": "#%% md\n"
    }
   },
   "source": [
    "# Tutorial: The Canonical HANK Model in an Open Economy Setting"
   ]
  },
  {
   "cell_type": "markdown",
   "metadata": {},
   "source": [
    "We begin once more by importing packages."
   ]
  },
  {
   "cell_type": "code",
   "execution_count": 1,
   "metadata": {
    "collapsed": false,
    "jupyter": {
     "outputs_hidden": false
    },
    "pycharm": {
     "name": "#%%\n"
    }
   },
   "outputs": [],
   "source": [
    "# Import packages\n",
    "import numpy as np\n",
    "import matplotlib.pyplot as plt\n",
    "import sequence_jacobian as sj"
   ]
  },
  {
   "cell_type": "markdown",
   "metadata": {},
   "source": [
    "We again set the calibration up front."
   ]
  },
  {
   "cell_type": "code",
   "execution_count": 2,
   "metadata": {
    "pycharm": {
     "name": "#%%\n"
    }
   },
   "outputs": [],
   "source": [
    "calibration = {'eis': 1.,  # elasticity of intertemporal substitution\n",
    "               'alpha': 0.4,  # home's foreign good preference, (1 - alpha) is the home's home bias\n",
    "               'alphastar': 0.4,  # foreign's home good preference, (1 - alpha_star) is the foreign's home bias\n",
    "               'eta': 1.01,  # elasticity of substitution between goods\n",
    "               'gamma': 0.394,  # elasticity of foreign demand\n",
    "               'markup_ss': 1.015,  # steady state markup\n",
    "               'min_a': 0.,  # Minimum asset level on the grid\n",
    "               'max_a': 400,  # Maximum asset level on the grid\n",
    "               'n_a': 200,  # Number of asset grid points\n",
    "               'rho_e': 0.92,  # persistence of idiosyncratic productivity shocks\n",
    "               'sd_e': 0.57,  # standard deviation of idiosyncratic productivity shocks\n",
    "               'n_e': 7,  # Number of income grid points\n",
    "               'Y': 1,  # Output\n",
    "               'nfa': 0,  # net foreign assets\n",
    "               'rstar': 0.02,  # foreign interest rate\n",
    "               'Cstar': 1,\n",
    "               'Q': 1}  # Foreign demand"
   ]
  },
  {
   "cell_type": "markdown",
   "metadata": {},
   "source": [
    "## Model setup"
   ]
  },
  {
   "cell_type": "markdown",
   "metadata": {},
   "source": [
    "### `HetBlock` as before"
   ]
  },
  {
   "cell_type": "markdown",
   "metadata": {},
   "source": [
    "We begin with the household block, which is defined exactly like we used it before! [copy & paste]"
   ]
  },
  {
   "cell_type": "code",
   "execution_count": 3,
   "metadata": {},
   "outputs": [],
   "source": [
    "# initialize\n",
    "def hh_init(a_grid, z, r, eis):\n",
    "    coh = (1 + r) * a_grid[np.newaxis, :] + z[:, np.newaxis]\n",
    "    Va = (1 + r) * (0.1 * coh) ** (-1 / eis)\n",
    "    return Va\n",
    "\n",
    "# backward step\n",
    "@sj.het(exogenous='Pi',  # <-- this means our transition matrix will be fed into the model as Pi\n",
    "        policy='a',  # <-- this means our endogenous state variable is a, defined over grid a_grid\n",
    "        backward='Va',  # <-- this means we're iterating over variable Va, whose future value is Va_p\n",
    "        backward_init=hh_init)\n",
    "def hh(Va_p, a_grid, z, r, beta, eis):\n",
    "    uc_nextgrid = beta * Va_p  # u'(c') on tomorrow's grid\n",
    "    c_nextgrid = uc_nextgrid ** (-eis)  # c' on tomorrow's grid\n",
    "    coh = (1 + r) * a_grid[np.newaxis, :] + z[:, np.newaxis]  # cash on hand coh on today's grid\n",
    "    a = sj.interpolate.interpolate_y(c_nextgrid + a_grid, coh, a_grid)  # this plots (c'+a', a') pairs and computes policy a from interpolation on coh\n",
    "    sj.misc.setmin(a, a_grid[0])  # impose borrowing constraint\n",
    "    c = coh - a  # back out consumption\n",
    "    Va = (1 + r) * c ** (-1 / eis)  # V'(a)\n",
    "    return Va, a, c"
   ]
  },
  {
   "cell_type": "markdown",
   "metadata": {},
   "source": [
    "Just like before, we set two `hetinputs` and a `hetoutput` for calculating MPCs. [copy & paste]"
   ]
  },
  {
   "cell_type": "code",
   "execution_count": 4,
   "metadata": {},
   "outputs": [],
   "source": [
    "def make_grids(rho_e, sd_e, n_e, min_a, max_a, n_a):\n",
    "    e_grid, _, Pi = sj.grids.markov_rouwenhorst(rho_e, sd_e, n_e)\n",
    "    a_grid = sj.grids.asset_grid(min_a, max_a, n_a)\n",
    "    return e_grid, Pi, a_grid\n",
    "\n",
    "def income(Z, e_grid):\n",
    "    z = Z * e_grid\n",
    "    return z\n",
    "\n",
    "def compute_weighted_mpc(c, a, a_grid, r, e_grid):\n",
    "    \"\"\"Approximate mpc out of wealth, with symmetric differences where possible, exactly setting mpc=1 for constrained agents.\"\"\"\n",
    "    mpc = np.empty_like(c)\n",
    "    post_return = (1 + r) * a_grid\n",
    "    mpc[:, 1:-1] = (c[:, 2:] - c[:, 0:-2]) / (post_return[2:] - post_return[:-2])\n",
    "    mpc[:, 0] = (c[:, 1] - c[:, 0]) / (post_return[1] - post_return[0])\n",
    "    mpc[:, -1] = (c[:, -1] - c[:, -2]) / (post_return[-1] - post_return[-2])\n",
    "    mpc[a == a_grid[0]] = 1\n",
    "    mpc = mpc * e_grid[:, np.newaxis]\n",
    "    return mpc\n",
    "\n",
    "hh_extended = hh.add_hetinputs([make_grids, income]).add_hetoutputs([compute_weighted_mpc])"
   ]
  },
  {
   "cell_type": "markdown",
   "metadata": {},
   "source": [
    "### Other blocks"
   ]
  },
  {
   "cell_type": "markdown",
   "metadata": {},
   "source": [
    "Here we list a few extra `SimpleBlock`s we need:"
   ]
  },
  {
   "cell_type": "markdown",
   "metadata": {},
   "source": [
    " - sectoral demand of domestic households:"
   ]
  },
  {
   "cell_type": "code",
   "execution_count": null,
   "metadata": {},
   "outputs": [],
   "source": [
    "\n",
    "\n",
    "\n",
    "\n"
   ]
  },
  {
   "cell_type": "markdown",
   "metadata": {},
   "source": [
    " - foreign demand"
   ]
  },
  {
   "cell_type": "code",
   "execution_count": null,
   "metadata": {},
   "outputs": [],
   "source": [
    "\n",
    "\n",
    "\n"
   ]
  },
  {
   "cell_type": "markdown",
   "metadata": {},
   "source": [
    " - UIP"
   ]
  },
  {
   "cell_type": "code",
   "execution_count": null,
   "metadata": {},
   "outputs": [],
   "source": [
    "\n",
    "\n",
    "\n",
    "\n",
    "\n",
    "\n",
    "\n",
    "\n",
    "\n",
    "\n",
    "\n",
    "\n",
    "\n",
    "\n"
   ]
  },
  {
   "cell_type": "markdown",
   "metadata": {},
   "source": [
    " - income"
   ]
  },
  {
   "cell_type": "code",
   "execution_count": null,
   "metadata": {},
   "outputs": [],
   "source": [
    "\n",
    "\n",
    "\n",
    "\n",
    "\n",
    "\n",
    "\n",
    "\n",
    "\n",
    "\n",
    "\n",
    "\n",
    "\n",
    "\n",
    "\n"
   ]
  },
  {
   "cell_type": "markdown",
   "metadata": {},
   "source": [
    " - balance of payments: (just to compute the NFA, not needed if we clear the goods market)"
   ]
  },
  {
   "cell_type": "code",
   "execution_count": null,
   "metadata": {},
   "outputs": [],
   "source": [
    "\n",
    "\n",
    "\n",
    "\n"
   ]
  },
  {
   "cell_type": "markdown",
   "metadata": {},
   "source": [
    " - market clearing"
   ]
  },
  {
   "cell_type": "code",
   "execution_count": null,
   "metadata": {},
   "outputs": [],
   "source": [
    "\n",
    "\n",
    "\n"
   ]
  },
  {
   "cell_type": "code",
   "execution_count": null,
   "metadata": {},
   "outputs": [],
   "source": []
  },
  {
   "cell_type": "code",
   "execution_count": null,
   "metadata": {},
   "outputs": [],
   "source": []
  },
  {
   "cell_type": "markdown",
   "metadata": {},
   "source": [
    "We could allow for more here: Wage Phillips curve, Taylor rule, etc, but that is not necessary for what we are doing now, as long as we assume real interest rate rules."
   ]
  },
  {
   "cell_type": "markdown",
   "metadata": {},
   "source": [
    "## Steady state"
   ]
  },
  {
   "cell_type": "markdown",
   "metadata": {
    "pycharm": {
     "name": "#%% md\n"
    }
   },
   "source": [
    "## Calibration and model setup"
   ]
  },
  {
   "cell_type": "markdown",
   "metadata": {},
   "source": [
    "We calibrate the model, just like before. First, we give it a test run, without calibrating anything."
   ]
  },
  {
   "cell_type": "code",
   "execution_count": null,
   "metadata": {},
   "outputs": [],
   "source": [
    "\n",
    "\n",
    "\n"
   ]
  },
  {
   "cell_type": "markdown",
   "metadata": {},
   "source": [
    "Automate this ..."
   ]
  },
  {
   "cell_type": "code",
   "execution_count": null,
   "metadata": {},
   "outputs": [],
   "source": [
    "\n",
    "\n",
    "\n",
    "\n"
   ]
  },
  {
   "cell_type": "markdown",
   "metadata": {
    "pycharm": {
     "name": "#%% md\n"
    }
   },
   "source": [
    "Now let's verify that Walras law and UIP hold:"
   ]
  },
  {
   "cell_type": "code",
   "execution_count": null,
   "metadata": {
    "pycharm": {
     "name": "#%%\n"
    }
   },
   "outputs": [],
   "source": [
    "\n"
   ]
  },
  {
   "cell_type": "markdown",
   "metadata": {},
   "source": [
    "What's `chi` here?"
   ]
  },
  {
   "cell_type": "code",
   "execution_count": null,
   "metadata": {},
   "outputs": [],
   "source": []
  },
  {
   "cell_type": "markdown",
   "metadata": {
    "pycharm": {
     "name": "#%% md\n"
    }
   },
   "source": [
    "## Transitional dynamics\n",
    "\n",
    "We are now going to look at the impulse responses to two kinds of shocks:\n",
    "1. Shocks to the foreign interest rate, $r^*$, interpreted as exchange rate shocks or capital flow shocks.\n",
    "2. Shocks to the domestic interest rate, $r$, interpreted as domestic monetary policy shocks."
   ]
  },
  {
   "cell_type": "markdown",
   "metadata": {},
   "source": [
    "As before, we define a simple function to aid with plotting stuff."
   ]
  },
  {
   "cell_type": "code",
   "execution_count": 5,
   "metadata": {},
   "outputs": [],
   "source": [
    "def show_irfs(irfs_list, variables, labels=[\" \"], ylabel=r\"Percentage points (dev. from ss)\", T_plot=50, figsize=(18, 6)):\n",
    "    if len(irfs_list) != len(labels):\n",
    "        labels = [\" \"] * len(irfs_list)\n",
    "    n_var = len(variables)\n",
    "    fig, ax = plt.subplots(1, n_var, figsize=figsize, sharex=True)\n",
    "    for i in range(n_var):\n",
    "        # plot all irfs\n",
    "        for j, irf in enumerate(irfs_list):\n",
    "            ax[i].plot(100 * irf[variables[i]][:50], label=labels[j])\n",
    "        ax[i].set_title(variables[i])\n",
    "        ax[i].set_xlabel(r\"$t$\")\n",
    "        if i==0:\n",
    "            ax[i].set_ylabel(ylabel)\n",
    "        ax[i].legend()\n",
    "    plt.show()"
   ]
  },
  {
   "cell_type": "markdown",
   "metadata": {
    "pycharm": {
     "name": "#%% md\n"
    }
   },
   "source": [
    "### Shocks to the foreign interest rate, $r^*$"
   ]
  },
  {
   "cell_type": "markdown",
   "metadata": {},
   "source": [
    "We use `solve_impulse_linear` just like before."
   ]
  },
  {
   "cell_type": "code",
   "execution_count": null,
   "metadata": {},
   "outputs": [],
   "source": [
    "\n",
    "\n",
    "\n",
    "\n",
    "\n",
    "\n"
   ]
  },
  {
   "cell_type": "markdown",
   "metadata": {},
   "source": [
    "Let's plot those:"
   ]
  },
  {
   "cell_type": "code",
   "execution_count": null,
   "metadata": {
    "collapsed": false,
    "jupyter": {
     "outputs_hidden": false
    },
    "pycharm": {
     "name": "#%%\n"
    }
   },
   "outputs": [],
   "source": []
  },
  {
   "cell_type": "markdown",
   "metadata": {},
   "source": [
    "Why does consumption not move here? Despite `Y` moving? Let us also plot `Z`, `PH_P`:"
   ]
  },
  {
   "cell_type": "code",
   "execution_count": null,
   "metadata": {},
   "outputs": [],
   "source": []
  },
  {
   "cell_type": "markdown",
   "metadata": {},
   "source": [
    "We see that real labor income Z is constant, because the real value of goods sold, `PH_P` falls due to the depreciation, exactly offsetting the increase in output `Y`."
   ]
  },
  {
   "cell_type": "markdown",
   "metadata": {},
   "source": [
    "We can learn more about the propagation by separating the `C` response into what would have happened with only `PH_P` falling (\"real income channel\") and with only the `Y` increase (\"multiplier channel\"). We do so by using the `impulse_linear` function."
   ]
  },
  {
   "cell_type": "code",
   "execution_count": null,
   "metadata": {},
   "outputs": [],
   "source": [
    "\n",
    "\n"
   ]
  },
  {
   "cell_type": "markdown",
   "metadata": {},
   "source": [
    "We see that what's going on is that the real income channel and the multiplier channel are exactly offsetting each other here."
   ]
  },
  {
   "cell_type": "markdown",
   "metadata": {},
   "source": [
    "Let's see what happens with greater and smaller `chi`s:"
   ]
  },
  {
   "cell_type": "code",
   "execution_count": null,
   "metadata": {},
   "outputs": [],
   "source": [
    "\n",
    "\n",
    "\n",
    "\n",
    "\n",
    "\n",
    "\n",
    "\n"
   ]
  },
  {
   "cell_type": "markdown",
   "metadata": {},
   "source": [
    "Repeating the decomposition for the case with low chi:"
   ]
  },
  {
   "cell_type": "code",
   "execution_count": null,
   "metadata": {},
   "outputs": [],
   "source": [
    "\n",
    "\n"
   ]
  },
  {
   "cell_type": "markdown",
   "metadata": {},
   "source": [
    "Here the real income channel dominates!"
   ]
  },
  {
   "cell_type": "markdown",
   "metadata": {
    "pycharm": {
     "name": "#%% md\n"
    }
   },
   "source": [
    "### Shocks to the domestic interest rate, r"
   ]
  },
  {
   "cell_type": "markdown",
   "metadata": {},
   "source": [
    "Let's try out a domestic monetary policy shock. For that, let's set chi to 2 - alpha."
   ]
  },
  {
   "cell_type": "code",
   "execution_count": null,
   "metadata": {},
   "outputs": [],
   "source": [
    "\n",
    "\n",
    "\n",
    "\n",
    "\n",
    "\n"
   ]
  },
  {
   "cell_type": "markdown",
   "metadata": {},
   "source": [
    "Notice that `Q` responds exactly the same here as it did to a positive `rstar` shock. But `Y` responds more, because `C` responds more."
   ]
  },
  {
   "cell_type": "markdown",
   "metadata": {},
   "source": [
    "Why is that? Let's decompose the `C` response once more."
   ]
  },
  {
   "cell_type": "code",
   "execution_count": null,
   "metadata": {},
   "outputs": [],
   "source": [
    "\n",
    "\n",
    "\n",
    "\n"
   ]
  },
  {
   "cell_type": "markdown",
   "metadata": {},
   "source": [
    "## Exercises"
   ]
  },
  {
   "cell_type": "markdown",
   "metadata": {},
   "source": [
    "### Exercise 1: `Cstar` shocks"
   ]
  },
  {
   "cell_type": "markdown",
   "metadata": {},
   "source": [
    "Compute the IRFs to an export demand shock, i.e. a shock to `Cstar`. Is there an effect on `C`? If so, why?"
   ]
  },
  {
   "cell_type": "markdown",
   "metadata": {},
   "source": [
    "### Exercise 2: Domestic demand shocks"
   ]
  },
  {
   "cell_type": "markdown",
   "metadata": {},
   "source": [
    "Compute the IRFs to a domestic demand shock, i.e. a shock to `beta`.\n",
    "\n",
    " (a) How different is a positive demand shock from an accommodative monetary policy shock?\n",
    "\n",
    " (b) Decompose the `C` response into the direct effect of the `beta` shock, and the indirect response via `Z`.\n",
    " \n",
    " (c) Simulate a shock to income risk, i.e. to `sd_e`. How different is a positive risk shock from a negative demand shock?"
   ]
  },
  {
   "cell_type": "markdown",
   "metadata": {},
   "source": [
    "### Exercise 3: UIP shocks"
   ]
  },
  {
   "cell_type": "markdown",
   "metadata": {},
   "source": [
    "(a) Modify the model to introduce an exogenous UIP wedge and hit it with a shock. Compare it to the effect of an `rstar` shock, suitably rescaled, with the same persistence."
   ]
  },
  {
   "cell_type": "markdown",
   "metadata": {},
   "source": [
    "(b) Now make the UIP wedge endogenous to the NFA: Pick a simple affine linear function for the UIP wedge. How does the endogenous UIP wedge affect the propagation of `rstar` and `r` shocks? What if `chi` is low?"
   ]
  },
  {
   "cell_type": "markdown",
   "metadata": {},
   "source": [
    "### Exercise 4: MPCs"
   ]
  },
  {
   "cell_type": "markdown",
   "metadata": {},
   "source": [
    "Add an option to compute MPCs, just like we did before, as `hetoutput`. Compute MPCs in this steady state. Have the model recalibrate the steady state markup `markup_ss` to hit a quarterly MPC of 0.25."
   ]
  },
  {
   "cell_type": "markdown",
   "metadata": {},
   "source": [
    "### Exercise 5: Comparison to RA and TA"
   ]
  },
  {
   "cell_type": "markdown",
   "metadata": {},
   "source": [
    "Just like before, introduce RA and TA models. Compare the HA IRFs to the ones in the RA and TA models. Show that they coincide for `rstar` shocks when `chi=1` but can differ significantly otherwise."
   ]
  },
  {
   "cell_type": "markdown",
   "metadata": {},
   "source": [
    "### Exercise 6: Phillips curve and Taylor rule"
   ]
  },
  {
   "cell_type": "markdown",
   "metadata": {},
   "source": [
    "(a) Introduce a standard wage Phillips curve into the model. Plot the response of nominal wage inflation to an `rstar` shock.\n",
    "\n",
    "(b) Add a Taylor rule, which pins down the real rate as a function of domestic inflation. How does the response to `rstar` shocks change with a Taylor rule compared to a real rate rule? Interpret."
   ]
  }
 ],
 "metadata": {
  "kernelspec": {
   "display_name": "Python 3",
   "language": "python",
   "name": "python3"
  },
  "language_info": {
   "codemirror_mode": {
    "name": "ipython",
    "version": 3
   },
   "file_extension": ".py",
   "mimetype": "text/x-python",
   "name": "python",
   "nbconvert_exporter": "python",
   "pygments_lexer": "ipython3",
   "version": "3.7.1"
  }
 },
 "nbformat": 4,
 "nbformat_minor": 4
}
