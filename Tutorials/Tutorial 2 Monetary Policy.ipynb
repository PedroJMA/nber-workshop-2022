{
 "cells": [
  {
   "cell_type": "markdown",
   "metadata": {
    "collapsed": true,
    "pycharm": {
     "name": "#%% md\n"
    }
   },
   "source": [
    "## Tutorial 2: Using SSJ for Closed-economy Monetary Policy Analysis"
   ]
  },
  {
   "cell_type": "markdown",
   "metadata": {},
   "source": [
    "NBER Heterogeneous-Agent Macro Workshop\n",
    "\n",
    "Spring 2022"
   ]
  },
  {
   "cell_type": "markdown",
   "metadata": {},
   "source": [
    "This tutorial walks us through setting up the monetary policy models that we covered in lecture."
   ]
  },
  {
   "cell_type": "markdown",
   "metadata": {},
   "source": [
    "What we'll do in a nutshell:\n",
    "\n",
    "   1. Set up the model using blocks \n",
    "   2. Get the steady state\n",
    "   3. Get the impulse responses to `r_ante` shocks, compare to the RA model\n",
    "   4. Use Jacobians to decompose into direct/indirect effects\n",
    "   5. Repeat steps 1-3 for our alternative models"
   ]
  },
  {
   "cell_type": "markdown",
   "metadata": {},
   "source": [
    " We'll start by importing our usual three packages."
   ]
  },
  {
   "cell_type": "code",
   "execution_count": 1,
   "metadata": {
    "pycharm": {
     "name": "#%%\n"
    }
   },
   "outputs": [],
   "source": [
    "# Import standard packages\n",
    "\n",
    "import numpy as np  \n",
    "import matplotlib.pyplot as plt \n",
    "import sequence_jacobian as sj  "
   ]
  },
  {
   "cell_type": "markdown",
   "metadata": {},
   "source": [
    "We'll also import a `py` file that has some convenience plotting functions."
   ]
  },
  {
   "cell_type": "code",
   "execution_count": 2,
   "metadata": {},
   "outputs": [],
   "source": [
    "import tutorial_closed_econ_monetary as tutil"
   ]
  },
  {
   "cell_type": "markdown",
   "metadata": {
    "pycharm": {
     "name": "#%% md\n"
    }
   },
   "source": [
    "Here is our predefined `calibration` dictionary for this session."
   ]
  },
  {
   "cell_type": "code",
   "execution_count": 3,
   "metadata": {
    "pycharm": {
     "name": "#%%\n"
    }
   },
   "outputs": [],
   "source": [
    "calibration = {'eis': 0.5,     # EIS\n",
    "               'rho_e': 0.92,  # Persistence of idiosyncratic productivity shocks\n",
    "               'sd_e': 0.92,   # Standard deviation of idiosyncratic productivity shocks\n",
    "               'Y': 1.,        # Output\n",
    "               'r_ante': 0.01, # target real interest rate\n",
    "               'min_a': -1,    # Minimum asset level on the grid\n",
    "               'max_a': 1_000, # Maximum asset level on the grid\n",
    "               'n_a': 500,     # Number of asset grid points\n",
    "               'n_e': 11}      # Number of productivity grid points"
   ]
  },
  {
   "cell_type": "markdown",
   "metadata": {
    "pycharm": {
     "name": "#%% md\n"
    }
   },
   "source": [
    "Because we already went over the canonical HANK model in Tutorial 1, here we'll instead follow what is actually a more common workflow in SSJ: load a predefined `HetBlock` and start working with that directly. \n",
    "\n",
    "We do this by preloading the household block and grid function from `sj.hetblocks.hh_sim` "
   ]
  },
  {
   "cell_type": "code",
   "execution_count": 4,
   "metadata": {},
   "outputs": [],
   "source": [
    "hh = sj.hetblocks.hh_sim.hh\n",
    "make_grids = sj.hetblocks.hh_sim.make_grids"
   ]
  },
  {
   "cell_type": "markdown",
   "metadata": {},
   "source": [
    "Now, we define the income input. For our baseline model, income is just $e\\times Y$"
   ]
  },
  {
   "cell_type": "code",
   "execution_count": 5,
   "metadata": {},
   "outputs": [],
   "source": [
    "def income(Y, e_grid):\n",
    "    # post-tax labor income\n",
    "    y = Y * e_grid\n",
    "    return y"
   ]
  },
  {
   "cell_type": "markdown",
   "metadata": {},
   "source": [
    "We're ready to define our simple `HetBlock`, with `make_grids` and `income` as `hetinputs`"
   ]
  },
  {
   "cell_type": "code",
   "execution_count": 6,
   "metadata": {},
   "outputs": [],
   "source": [
    "household_simple = hh.add_hetinputs([make_grids, income])"
   ]
  },
  {
   "cell_type": "markdown",
   "metadata": {},
   "source": [
    "In addition, we have the two blocks we discussed in lecture: one that takes us from the exogenous, ex-ante `r` set by monetary policy to the (ex-post) `r` faced by households, and a market clearing block. "
   ]
  },
  {
   "cell_type": "code",
   "execution_count": 7,
   "metadata": {},
   "outputs": [],
   "source": [
    "@sj.simple\n",
    "def ex_post_rate(r_ante):\n",
    "    r = r_ante(-1)\n",
    "    return r\n",
    "\n",
    "@sj.simple\n",
    "def mkt_clearing_simple(A, Y, C):\n",
    "    asset_mkt = A\n",
    "    goods_mkt = C - Y\n",
    "    return asset_mkt, goods_mkt\n",
    "\n",
    "ha_simple = sj.create_model([household_simple, ex_post_rate, mkt_clearing_simple])"
   ]
  },
  {
   "cell_type": "markdown",
   "metadata": {},
   "source": [
    "We'll also define an RA model for comparison"
   ]
  },
  {
   "cell_type": "code",
   "execution_count": 8,
   "metadata": {},
   "outputs": [],
   "source": [
    "@sj.solved(unknowns={'C': 1, 'A': 1}, targets=[\"euler\", \"budget_constraint\"], solver=\"broyden_custom\")\n",
    "def household_ra_simple(C, A, Y, eis, beta, r):\n",
    "    euler = (beta * (1 + r(1))) ** (-eis) * C(1) - C\n",
    "    budget_constraint = (1 + r) * A(-1) + Y - C - A\n",
    "    return euler, budget_constraint\n",
    "\n",
    "ra = sj.create_model([household_ra_simple, ex_post_rate, mkt_clearing_simple], name=\"Representative Agent Model\")"
   ]
  },
  {
   "cell_type": "markdown",
   "metadata": {},
   "source": [
    "Now we define a dict for our three models: the HA model, the HA model with zero liquidity (an instance of `ha_simple` that we'll calibrate to have epsilon liquidity) and the RA model."
   ]
  },
  {
   "cell_type": "code",
   "execution_count": 9,
   "metadata": {
    "pycharm": {
     "name": "#%%\n"
    }
   },
   "outputs": [],
   "source": [
    "ss = {}\n",
    "models = {'ha': ha_simple, 'ha_zl': ha_simple, 'ra': ra}"
   ]
  },
  {
   "cell_type": "markdown",
   "metadata": {},
   "source": [
    "### Calibration"
   ]
  },
  {
   "cell_type": "markdown",
   "metadata": {},
   "source": [
    "Before we start calibrating, let's ask SSJ to draw the DAG of this model for us. A very useful way of understanding what is going on!"
   ]
  },
  {
   "cell_type": "code",
   "execution_count": 10,
   "metadata": {
    "scrolled": false
   },
   "outputs": [
    {
     "data": {
      "image/svg+xml": [
       "<?xml version=\"1.0\" encoding=\"UTF-8\" standalone=\"no\"?>\n",
       "<!DOCTYPE svg PUBLIC \"-//W3C//DTD SVG 1.1//EN\"\n",
       " \"http://www.w3.org/Graphics/SVG/1.1/DTD/svg11.dtd\">\n",
       "<!-- Generated by graphviz version 2.40.1 (20161225.0304)\n",
       " -->\n",
       "<!-- Title: %3 Pages: 1 -->\n",
       "<svg width=\"209pt\" height=\"218pt\"\n",
       " viewBox=\"0.00 0.00 209.48 218.00\" xmlns=\"http://www.w3.org/2000/svg\" xmlns:xlink=\"http://www.w3.org/1999/xlink\">\n",
       "<g id=\"graph0\" class=\"graph\" transform=\"scale(1 1) rotate(0) translate(4 214)\">\n",
       "<title>%3</title>\n",
       "<polygon fill=\"#ffffff\" stroke=\"transparent\" points=\"-4,4 -4,-214 205.4821,-214 205.4821,4 -4,4\"/>\n",
       "<!-- 0 -->\n",
       "<g id=\"node1\" class=\"node\">\n",
       "<title>0</title>\n",
       "<ellipse fill=\"none\" stroke=\"#000000\" cx=\"100.7411\" cy=\"-192\" rx=\"70.3881\" ry=\"18\"/>\n",
       "<text text-anchor=\"middle\" x=\"100.7411\" y=\"-188.3\" font-family=\"Times,serif\" font-size=\"14.00\" fill=\"#000000\">ex_post_rate [0]</text>\n",
       "</g>\n",
       "<!-- 1 -->\n",
       "<g id=\"node2\" class=\"node\">\n",
       "<title>1</title>\n",
       "<ellipse fill=\"none\" stroke=\"#000000\" cx=\"100.7411\" cy=\"-105\" rx=\"50.8918\" ry=\"18\"/>\n",
       "<text text-anchor=\"middle\" x=\"100.7411\" y=\"-101.3\" font-family=\"Times,serif\" font-size=\"14.00\" fill=\"#000000\">hh [HA, 1]</text>\n",
       "</g>\n",
       "<!-- 0&#45;&gt;1 -->\n",
       "<g id=\"edge1\" class=\"edge\">\n",
       "<title>0&#45;&gt;1</title>\n",
       "<path fill=\"none\" stroke=\"#000000\" d=\"M100.7411,-173.9735C100.7411,-162.1918 100.7411,-146.5607 100.7411,-133.1581\"/>\n",
       "<polygon fill=\"#000000\" stroke=\"#000000\" points=\"104.2412,-133.0033 100.7411,-123.0034 97.2412,-133.0034 104.2412,-133.0033\"/>\n",
       "<text text-anchor=\"middle\" x=\"103.2411\" y=\"-144.8\" font-family=\"Times,serif\" font-size=\"14.00\" fill=\"#000000\">r</text>\n",
       "</g>\n",
       "<!-- 2 -->\n",
       "<g id=\"node3\" class=\"node\">\n",
       "<title>2</title>\n",
       "<ellipse fill=\"none\" stroke=\"#000000\" cx=\"100.7411\" cy=\"-18\" rx=\"100.9827\" ry=\"18\"/>\n",
       "<text text-anchor=\"middle\" x=\"100.7411\" y=\"-14.3\" font-family=\"Times,serif\" font-size=\"14.00\" fill=\"#000000\">mkt_clearing_simple [2]</text>\n",
       "</g>\n",
       "<!-- 1&#45;&gt;2 -->\n",
       "<g id=\"edge2\" class=\"edge\">\n",
       "<title>1&#45;&gt;2</title>\n",
       "<path fill=\"none\" stroke=\"#000000\" d=\"M100.7411,-86.9735C100.7411,-75.1918 100.7411,-59.5607 100.7411,-46.1581\"/>\n",
       "<polygon fill=\"#000000\" stroke=\"#000000\" points=\"104.2412,-46.0033 100.7411,-36.0034 97.2412,-46.0034 104.2412,-46.0033\"/>\n",
       "<text text-anchor=\"middle\" x=\"114.2411\" y=\"-57.8\" font-family=\"Times,serif\" font-size=\"14.00\" fill=\"#000000\">A, C</text>\n",
       "</g>\n",
       "</g>\n",
       "</svg>\n"
      ],
      "text/plain": [
       "<graphviz.dot.Digraph at 0x7ffbbbfd7c70>"
      ]
     },
     "metadata": {},
     "output_type": "display_data"
    }
   ],
   "source": [
    "sj.drawdag(ha_simple)"
   ]
  },
  {
   "cell_type": "markdown",
   "metadata": {},
   "source": [
    "This looks like the DAG from the class, except that we haven't specified the inputs, exogenous variables, or targets. That's actually how the model is stored on the computer, and then we need to give SSJ in we'll need to do this to solve the full model."
   ]
  },
  {
   "cell_type": "markdown",
   "metadata": {},
   "source": [
    "Let's proceed to solving for the steady state. We know that we need to solve for $\\beta$ to hit the goods market clearing condition or (even better in practice) the asset market clearing condition. "
   ]
  },
  {
   "cell_type": "markdown",
   "metadata": {},
   "source": [
    "If we don't remember what we called $\\beta$, we look for it in the `inputs` of the model. Recall that these are not ouputs of any block, so they give us the candidate unknowns and exogenous variables. "
   ]
  },
  {
   "cell_type": "code",
   "execution_count": 11,
   "metadata": {},
   "outputs": [
    {
     "data": {
      "text/plain": [
       "OrderedSet(['beta', 'eis', 'rho_e', 'sd_e', 'n_e', 'min_a', 'max_a', 'n_a', 'Y', 'r_ante'])"
      ]
     },
     "execution_count": 11,
     "metadata": {},
     "output_type": "execute_result"
    }
   ],
   "source": [
    "ha_simple.inputs"
   ]
  },
  {
   "cell_type": "markdown",
   "metadata": {},
   "source": [
    "So we found `beta`. Similarly, if we don't remember what we call our market clearing conditions, we look for them among the model's `outputs`. These are not inputs into any block, so they give us the candidate targets of our model."
   ]
  },
  {
   "cell_type": "code",
   "execution_count": 12,
   "metadata": {},
   "outputs": [
    {
     "data": {
      "text/plain": [
       "OrderedSet(['A', 'C', 'r', 'asset_mkt', 'goods_mkt'])"
      ]
     },
     "execution_count": 12,
     "metadata": {},
     "output_type": "execute_result"
    }
   ],
   "source": [
    "ha_simple.outputs"
   ]
  },
  {
   "cell_type": "markdown",
   "metadata": {},
   "source": [
    "Now we get the steady state by calling the `solve_steady_state` function, giving it a reasonable range for `beta` to look over. We can check out the outcome steady state dict by calling `toplevel`."
   ]
  },
  {
   "cell_type": "code",
   "execution_count": 13,
   "metadata": {},
   "outputs": [
    {
     "data": {
      "text/plain": [
       "{'eis': 0.5,\n",
       " 'rho_e': 0.92,\n",
       " 'sd_e': 0.92,\n",
       " 'Y': 1.0,\n",
       " 'r_ante': 0.01,\n",
       " 'min_a': -1,\n",
       " 'max_a': 1000,\n",
       " 'n_a': 500,\n",
       " 'n_e': 11,\n",
       " 'beta': 0.823354842513158,\n",
       " 'r': 0.01,\n",
       " 'A': 6.556089005016474e-12,\n",
       " 'C': 1.000000000000772,\n",
       " 'asset_mkt': 6.556089005016474e-12,\n",
       " 'goods_mkt': 7.720490913243339e-13}"
      ]
     },
     "execution_count": 13,
     "metadata": {},
     "output_type": "execute_result"
    }
   ],
   "source": [
    "ss['ha'] = models['ha'].solve_steady_state(calibration, {'beta': (0.75, 0.9)}, ['asset_mkt'])\n",
    "ss['ha'].toplevel"
   ]
  },
  {
   "cell_type": "markdown",
   "metadata": {},
   "source": [
    "Note that the calibration function filled up all the variables that are implicitly defined in the DAG, such as  `r`. "
   ]
  },
  {
   "cell_type": "markdown",
   "metadata": {},
   "source": [
    "To get the calibration of the ZL model, we just reset the minimal asset level on the grid and recalibrate. Of course, we'll get a much lower $\\beta$ to clear the asset market at the same `r` but with much lower liquidity. "
   ]
  },
  {
   "cell_type": "code",
   "execution_count": 14,
   "metadata": {
    "scrolled": true
   },
   "outputs": [
    {
     "name": "stdout",
     "output_type": "stream",
     "text": [
      "Beta in main model: 0.823354842513158  ; in ZL model :  0.4258741563912855\n"
     ]
    }
   ],
   "source": [
    "calibration_zl = calibration.copy()\n",
    "calibration_zl['min_a'] = -1e-6\n",
    "ss['ha_zl'] = models['ha_zl'].solve_steady_state(calibration_zl, {'beta': (0.35, 0.85)}, ['asset_mkt'])\n",
    "\n",
    "print(r'Beta in main model:', ss['ha']['beta'], ' ; in ZL model : ', ss['ha_zl']['beta'])"
   ]
  },
  {
   "cell_type": "markdown",
   "metadata": {},
   "source": [
    "Finally, we calibrate the RA model. "
   ]
  },
  {
   "cell_type": "code",
   "execution_count": 15,
   "metadata": {},
   "outputs": [],
   "source": [
    "calibration_ra = calibration.copy()\n",
    "calibration_ra['beta'] = 1 / (1 + calibration_ra['r_ante'])\n",
    "ss['ra'] = models['ra'].solve_steady_state(calibration_ra, {'C': 1., 'A': 0.8}, {'budget_constraint': 0., 'asset_mkt': 0.},\n",
    "                                           dissolve=['household_ra_simple'])"
   ]
  },
  {
   "cell_type": "markdown",
   "metadata": {
    "pycharm": {
     "name": "#%% md\n"
    }
   },
   "source": [
    "## Transition Dynamics: comparing HA and RA\n",
    "\n",
    "Now that we have a steady state, let's compute some simple impulse responses.\n",
    "\n",
    "To do this, we'll want to use `solve_impulse_linear`. If we don't remember the syntax, we can always look for the help. \n"
   ]
  },
  {
   "cell_type": "code",
   "execution_count": 16,
   "metadata": {},
   "outputs": [
    {
     "name": "stdout",
     "output_type": "stream",
     "text": [
      "Help on method solve_impulse_linear in module sequence_jacobian.blocks.block:\n",
      "\n",
      "solve_impulse_linear(ss: sequence_jacobian.classes.steady_state_dict.SteadyStateDict, unknowns: List[str], targets: List[str], inputs: Union[Dict[str, Any], sequence_jacobian.classes.impulse_dict.ImpulseDict], outputs: Union[List[str], NoneType] = None, Js: Union[Dict[str, sequence_jacobian.classes.jacobian_dict.JacobianDict], NoneType] = {}, options: Dict[str, dict] = {}, H_U_factored: Union[sequence_jacobian.classes.jacobian_dict.FactoredJacobianDict, NoneType] = None, **kwargs) -> sequence_jacobian.classes.impulse_dict.ImpulseDict method of sequence_jacobian.blocks.combined_block.CombinedBlock instance\n",
      "    Calculate a general equilibrium, linear impulse response to a set of shocks in `inputs`\n",
      "    around a steady state `ss`, given a set of `unknowns` and `targets` corresponding to the endogenous\n",
      "    variables to be solved for and the target conditions that must hold in general equilibrium\n",
      "\n"
     ]
    }
   ],
   "source": [
    "help(models['ha'].solve_impulse_linear)"
   ]
  },
  {
   "cell_type": "markdown",
   "metadata": {},
   "source": [
    "We learn that we need to give this the model's steady state, and then `unknowns`, `targets`, and `inputs` (ie shocks). \n",
    "\n",
    "Again, `unknows` and `inputs` are among the model's inputs, and `targets` among the outputs.\n",
    "\n",
    "Inspecting the above, `r_ante` is our shock, `Y` is our unknown, and `asset_market` our natural target.\n",
    "\n",
    "If we want, we can visualize the dependencies including unknowns and targets using `drawdag` again called with optional arguments. "
   ]
  },
  {
   "cell_type": "code",
   "execution_count": 17,
   "metadata": {},
   "outputs": [
    {
     "data": {
      "image/svg+xml": [
       "<?xml version=\"1.0\" encoding=\"UTF-8\" standalone=\"no\"?>\n",
       "<!DOCTYPE svg PUBLIC \"-//W3C//DTD SVG 1.1//EN\"\n",
       " \"http://www.w3.org/Graphics/SVG/1.1/DTD/svg11.dtd\">\n",
       "<!-- Generated by graphviz version 2.40.1 (20161225.0304)\n",
       " -->\n",
       "<!-- Title: %3 Pages: 1 -->\n",
       "<svg width=\"261pt\" height=\"392pt\"\n",
       " viewBox=\"0.00 0.00 260.93 392.00\" xmlns=\"http://www.w3.org/2000/svg\" xmlns:xlink=\"http://www.w3.org/1999/xlink\">\n",
       "<g id=\"graph0\" class=\"graph\" transform=\"scale(1 1) rotate(0) translate(4 388)\">\n",
       "<title>%3</title>\n",
       "<polygon fill=\"#ffffff\" stroke=\"transparent\" points=\"-4,4 -4,-388 256.9348,-388 256.9348,4 -4,4\"/>\n",
       "<!-- exog -->\n",
       "<g id=\"node1\" class=\"node\">\n",
       "<title>exog</title>\n",
       "<polygon fill=\"none\" stroke=\"#000000\" points=\"108.1938,-384 32.1938,-384 32.1938,-348 108.1938,-348 108.1938,-384\"/>\n",
       "<text text-anchor=\"middle\" x=\"70.1938\" y=\"-362.3\" font-family=\"Times,serif\" font-size=\"14.00\" fill=\"#000000\">exogenous</text>\n",
       "</g>\n",
       "<!-- 0 -->\n",
       "<g id=\"node4\" class=\"node\">\n",
       "<title>0</title>\n",
       "<ellipse fill=\"none\" stroke=\"#000000\" cx=\"70.1938\" cy=\"-279\" rx=\"70.3881\" ry=\"18\"/>\n",
       "<text text-anchor=\"middle\" x=\"70.1938\" y=\"-275.3\" font-family=\"Times,serif\" font-size=\"14.00\" fill=\"#000000\">ex_post_rate [0]</text>\n",
       "</g>\n",
       "<!-- exog&#45;&gt;0 -->\n",
       "<g id=\"edge1\" class=\"edge\">\n",
       "<title>exog&#45;&gt;0</title>\n",
       "<path fill=\"none\" stroke=\"#000000\" d=\"M70.1938,-347.9735C70.1938,-336.1918 70.1938,-320.5607 70.1938,-307.1581\"/>\n",
       "<polygon fill=\"#000000\" stroke=\"#000000\" points=\"73.6939,-307.0033 70.1938,-297.0034 66.6939,-307.0034 73.6939,-307.0033\"/>\n",
       "<text text-anchor=\"middle\" x=\"87.6938\" y=\"-318.8\" font-family=\"Times,serif\" font-size=\"14.00\" fill=\"#000000\">r_ante</text>\n",
       "</g>\n",
       "<!-- unknowns -->\n",
       "<g id=\"node2\" class=\"node\">\n",
       "<title>unknowns</title>\n",
       "<polygon fill=\"none\" stroke=\"#000000\" points=\"232.1938,-297 158.1938,-297 158.1938,-261 232.1938,-261 232.1938,-297\"/>\n",
       "<text text-anchor=\"middle\" x=\"195.1938\" y=\"-275.3\" font-family=\"Times,serif\" font-size=\"14.00\" fill=\"#000000\">unknowns</text>\n",
       "</g>\n",
       "<!-- 1 -->\n",
       "<g id=\"node5\" class=\"node\">\n",
       "<title>1</title>\n",
       "<ellipse fill=\"none\" stroke=\"#000000\" cx=\"108.1938\" cy=\"-192\" rx=\"50.8918\" ry=\"18\"/>\n",
       "<text text-anchor=\"middle\" x=\"108.1938\" y=\"-188.3\" font-family=\"Times,serif\" font-size=\"14.00\" fill=\"#000000\">hh [HA, 1]</text>\n",
       "</g>\n",
       "<!-- unknowns&#45;&gt;1 -->\n",
       "<g id=\"edge2\" class=\"edge\">\n",
       "<title>unknowns&#45;&gt;1</title>\n",
       "<path fill=\"none\" stroke=\"#000000\" d=\"M177.1673,-260.9735C164.317,-248.1233 146.8875,-230.6937 132.7648,-216.571\"/>\n",
       "<polygon fill=\"#000000\" stroke=\"#000000\" points=\"134.8551,-213.7116 125.3092,-209.1154 129.9054,-218.6614 134.8551,-213.7116\"/>\n",
       "<text text-anchor=\"middle\" x=\"162.6938\" y=\"-231.8\" font-family=\"Times,serif\" font-size=\"14.00\" fill=\"#000000\">Y</text>\n",
       "</g>\n",
       "<!-- 2 -->\n",
       "<g id=\"node6\" class=\"node\">\n",
       "<title>2</title>\n",
       "<ellipse fill=\"none\" stroke=\"#000000\" cx=\"152.1938\" cy=\"-105\" rx=\"100.9827\" ry=\"18\"/>\n",
       "<text text-anchor=\"middle\" x=\"152.1938\" y=\"-101.3\" font-family=\"Times,serif\" font-size=\"14.00\" fill=\"#000000\">mkt_clearing_simple [2]</text>\n",
       "</g>\n",
       "<!-- unknowns&#45;&gt;2 -->\n",
       "<g id=\"edge4\" class=\"edge\">\n",
       "<title>unknowns&#45;&gt;2</title>\n",
       "<path fill=\"none\" stroke=\"#000000\" d=\"M191.752,-260.9927C186.5541,-234.5083 176.0411,-183.5823 164.1938,-141 163.4576,-138.3541 162.643,-135.6153 161.795,-132.884\"/>\n",
       "<polygon fill=\"#000000\" stroke=\"#000000\" points=\"165.0705,-131.6381 158.6581,-123.2042 158.4115,-133.7962 165.0705,-131.6381\"/>\n",
       "<text text-anchor=\"middle\" x=\"185.6938\" y=\"-188.3\" font-family=\"Times,serif\" font-size=\"14.00\" fill=\"#000000\">Y</text>\n",
       "</g>\n",
       "<!-- targets -->\n",
       "<g id=\"node3\" class=\"node\">\n",
       "<title>targets</title>\n",
       "<polygon fill=\"none\" stroke=\"#000000\" points=\"152.1938,-36 102.4244,-18 152.1938,0 201.9631,-18 152.1938,-36\"/>\n",
       "<text text-anchor=\"middle\" x=\"152.1938\" y=\"-14.3\" font-family=\"Times,serif\" font-size=\"14.00\" fill=\"#000000\">targets</text>\n",
       "</g>\n",
       "<!-- 0&#45;&gt;1 -->\n",
       "<g id=\"edge3\" class=\"edge\">\n",
       "<title>0&#45;&gt;1</title>\n",
       "<path fill=\"none\" stroke=\"#000000\" d=\"M78.0674,-260.9735C83.3154,-248.9585 90.3119,-232.9401 96.2414,-219.3646\"/>\n",
       "<polygon fill=\"#000000\" stroke=\"#000000\" points=\"99.5349,-220.5683 100.3302,-210.0034 93.1201,-217.7664 99.5349,-220.5683\"/>\n",
       "<text text-anchor=\"middle\" x=\"94.6938\" y=\"-231.8\" font-family=\"Times,serif\" font-size=\"14.00\" fill=\"#000000\">r</text>\n",
       "</g>\n",
       "<!-- 1&#45;&gt;2 -->\n",
       "<g id=\"edge6\" class=\"edge\">\n",
       "<title>1&#45;&gt;2</title>\n",
       "<path fill=\"none\" stroke=\"#000000\" d=\"M117.3106,-173.9735C123.4462,-161.8418 131.6459,-145.6287 138.5539,-131.9698\"/>\n",
       "<polygon fill=\"#000000\" stroke=\"#000000\" points=\"141.6987,-133.5066 143.0886,-123.0034 135.4522,-130.3474 141.6987,-133.5066\"/>\n",
       "<text text-anchor=\"middle\" x=\"146.6938\" y=\"-144.8\" font-family=\"Times,serif\" font-size=\"14.00\" fill=\"#000000\">A, C</text>\n",
       "</g>\n",
       "<!-- 2&#45;&gt;targets -->\n",
       "<g id=\"edge5\" class=\"edge\">\n",
       "<title>2&#45;&gt;targets</title>\n",
       "<path fill=\"none\" stroke=\"#000000\" d=\"M152.1938,-86.9735C152.1938,-75.1918 152.1938,-59.5607 152.1938,-46.1581\"/>\n",
       "<polygon fill=\"#000000\" stroke=\"#000000\" points=\"155.6939,-46.0033 152.1938,-36.0034 148.6939,-46.0034 155.6939,-46.0033\"/>\n",
       "<text text-anchor=\"middle\" x=\"180.1938\" y=\"-57.8\" font-family=\"Times,serif\" font-size=\"14.00\" fill=\"#000000\">asset_mkt</text>\n",
       "</g>\n",
       "</g>\n",
       "</svg>\n"
      ],
      "text/plain": [
       "<graphviz.dot.Digraph at 0x7ffbbcaa6400>"
      ]
     },
     "metadata": {},
     "output_type": "display_data"
    }
   ],
   "source": [
    "sj.drawdag(models['ha'], exogenous={'r_ante'}, unknowns={'Y'},targets={'asset_mkt'})"
   ]
  },
  {
   "cell_type": "markdown",
   "metadata": {},
   "source": [
    "Now we are ready to look at the response of output to a decrease in the interest rate, with a per-period persistence of $0.7$"
   ]
  },
  {
   "cell_type": "code",
   "execution_count": 18,
   "metadata": {
    "pycharm": {
     "name": "#%%\n"
    },
    "scrolled": true
   },
   "outputs": [
    {
     "data": {
      "image/png": "[encoded data removed]",
      "text/plain": [
       "<Figure size 576x273.6 with 2 Axes>"
      ]
     },
     "metadata": {
      "needs_background": "light"
     },
     "output_type": "display_data"
    },
    {
     "data": {
      "image/png": "[encoded data removed]",
      "text/plain": [
       "<Figure size 576x273.6 with 2 Axes>"
      ]
     },
     "metadata": {
      "needs_background": "light"
     },
     "output_type": "display_data"
    }
   ],
   "source": [
    "# Find the linear impulse responses to an \"r\" shock\n",
    "T = 300\n",
    "dr = -0.01 * 0.7 ** np.arange(T)\n",
    "irf = {}\n",
    "for m in ['ha', 'ha_zl', 'ra']:\n",
    "    irf[m] = models[m].solve_impulse_linear(ss[m], ['Y'], ['asset_mkt'], {'r_ante': dr})\n",
    "\n",
    "tutil.figure_1(irf, ss, dr)"
   ]
  },
  {
   "cell_type": "markdown",
   "metadata": {},
   "source": [
    "This gives us the figures in the lecture: HA>RA in the baseline calibration, but HA=RA under zero liquidity. "
   ]
  },
  {
   "cell_type": "markdown",
   "metadata": {
    "pycharm": {
     "name": "#%% md\n"
    }
   },
   "source": [
    "## Direct and indirect effects of monetary policy\n",
    "\n",
    "Now let's decompose the total response into its constituent effects discussed in class - the \"direct\" effect from the `r` and the \"indirect\" effect from the `Y`, ie the endogenous response of labor demand in GE to increased consumption, resulting in more labor income and increased consumption, etc."
   ]
  },
  {
   "cell_type": "markdown",
   "metadata": {},
   "source": [
    "For this, we need to call the `jacobian` routine of SSJ, which gives us the Jacobians of any block's outputs with respect to its inputs. "
   ]
  },
  {
   "cell_type": "markdown",
   "metadata": {},
   "source": [
    "We can see what we need to give `jacobian` by calling the help again"
   ]
  },
  {
   "cell_type": "code",
   "execution_count": 19,
   "metadata": {},
   "outputs": [
    {
     "name": "stdout",
     "output_type": "stream",
     "text": [
      "Help on method jacobian in module sequence_jacobian.blocks.block:\n",
      "\n",
      "jacobian(ss: sequence_jacobian.classes.steady_state_dict.SteadyStateDict, inputs: List[str], outputs: Union[List[str], NoneType] = None, T: Union[int, NoneType] = None, Js: Dict[str, sequence_jacobian.classes.jacobian_dict.JacobianDict] = {}, options: Dict[str, dict] = {}, **kwargs) -> sequence_jacobian.classes.jacobian_dict.JacobianDict method of sequence_jacobian.blocks.het_block.HetBlock instance\n",
      "    Calculate a partial equilibrium Jacobian to a set of `input` shocks at a steady state `ss`.\n",
      "\n"
     ]
    }
   ],
   "source": [
    "help(models['ha']['hh'].jacobian)"
   ]
  },
  {
   "cell_type": "markdown",
   "metadata": {},
   "source": [
    "Here we see that `.jacobian` takes arguments (in order):\n",
    "1. `SteadyStateDict` (the output of a call to `.steady_state`, or `.solve_steady_state`),\n",
    "2. a `list` of inputs the user wants to calculate the Jacobian with respect to\n",
    "\n",
    "Now we're ready to calculate the direct effect of a change in the interest rate on consumption. \n",
    "\n",
    "Note that, as the DAG shows us, going from the primitive `r` to the household block requires first going through the `ex_post_rate` block to get the ex-post rate from the ex-ante rate. What we really want is this combined Jacobian."
   ]
  },
  {
   "cell_type": "markdown",
   "metadata": {},
   "source": [
    "A simple way to do this is to form a `CombinedBlock`"
   ]
  },
  {
   "cell_type": "code",
   "execution_count": 20,
   "metadata": {},
   "outputs": [
    {
     "data": {
      "text/plain": [
       "<CombinedBlock 'ha_combined'>"
      ]
     },
     "execution_count": 20,
     "metadata": {},
     "output_type": "execute_result"
    }
   ],
   "source": [
    "ha_main = sj.combine([household_simple, ex_post_rate], name='ha_combined')\n",
    "ha_main"
   ]
  },
  {
   "cell_type": "markdown",
   "metadata": {},
   "source": [
    "We can now take the Jacobian of this block with respect to its two inputs `Y` and `r_ante`."
   ]
  },
  {
   "cell_type": "code",
   "execution_count": 21,
   "metadata": {},
   "outputs": [],
   "source": [
    "J = ha_main['ha_combined'].jacobian(ss['ha'],  inputs=['Y', 'r_ante'], T=T)"
   ]
  },
  {
   "cell_type": "markdown",
   "metadata": {},
   "source": [
    "We use this to get the direct/indirect decomposition. "
   ]
  },
  {
   "cell_type": "code",
   "execution_count": 22,
   "metadata": {
    "pycharm": {
     "name": "#%%\n"
    }
   },
   "outputs": [],
   "source": [
    "dC, dC_dr, dC_dY = {}, {}, {}\n",
    "dC['ha'] = irf['ha']['C']\n",
    "dC_dr['ha'] = J['C']['r_ante']  @ dr\n",
    "dC_dY['ha'] = J['C']['Y'] @ dC['ha']"
   ]
  },
  {
   "cell_type": "markdown",
   "metadata": {},
   "source": [
    "Check that this the decomposition sums to the total: "
   ]
  },
  {
   "cell_type": "code",
   "execution_count": 23,
   "metadata": {},
   "outputs": [
    {
     "data": {
      "text/plain": [
       "True"
      ]
     },
     "execution_count": 23,
     "metadata": {},
     "output_type": "execute_result"
    }
   ],
   "source": [
    "np.allclose(dC_dr['ha']+dC_dY['ha'], dC['ha'])"
   ]
  },
  {
   "cell_type": "markdown",
   "metadata": {},
   "source": [
    "Now, we'll redo the same calculations in the RA model (getting the income effect from the IMPCs), and then compare the direct/indirect decomposition in both models. "
   ]
  },
  {
   "cell_type": "code",
   "execution_count": 24,
   "metadata": {
    "pycharm": {
     "name": "#%%\n"
    }
   },
   "outputs": [
    {
     "data": {
      "image/png": "[encoded data removed]",
      "text/plain": [
       "<Figure size 576x273.6 with 2 Axes>"
      ]
     },
     "metadata": {
      "needs_background": "light"
     },
     "output_type": "display_data"
    }
   ],
   "source": [
    "# Re-do the same calculations for the RA model\n",
    "dC['ra'] = irf['ra']['C']\n",
    "\n",
    "Mra = tutil.compute_ra_impcs(ss['ra']['beta'], T=T)\n",
    "dC_dY['ra'] = Mra @ dC['ra']\n",
    "dC_dr['ra'] = dC['ra'] - dC_dY['ra']\n",
    "\n",
    "\n",
    "tutil.figure_2(dC, dC_dr, dC_dY)"
   ]
  },
  {
   "cell_type": "markdown",
   "metadata": {},
   "source": [
    "We get back to the result from the lecture notes. "
   ]
  },
  {
   "cell_type": "markdown",
   "metadata": {
    "pycharm": {
     "name": "#%% md\n"
    }
   },
   "source": [
    "## Cyclical income risk\n",
    "\n",
    "Before we introduce cyclical income risk, let's look at the baseline case of an impulse response to a future, anticipated interest rate cut (forward guidance) with our baseline HA model with acyclical income risk."
   ]
  },
  {
   "cell_type": "markdown",
   "metadata": {},
   "source": [
    "A simple way to do this is to get the general equilibrium Jacobian of the model, which we obtain with `solve_jacobian`. Then, the $s$th column of that Jacobian gives us the impulse response to a forward-guidance `r` shock at date $s$. "
   ]
  },
  {
   "cell_type": "code",
   "execution_count": 25,
   "metadata": {
    "pycharm": {
     "name": "#%%\n"
    }
   },
   "outputs": [],
   "source": [
    "# Model jacobian in ra and ha models\n",
    "T = 300\n",
    "G = {}\n",
    "\n",
    "G['ra'] = models['ra'].solve_jacobian(ss['ra'], ['Y'], ['asset_mkt'], ['r_ante'], T=T)\n",
    "G['ha'] = models['ha'].solve_jacobian(ss['ha'], ['Y'], ['asset_mkt'], ['r_ante'], T=T)\n"
   ]
  },
  {
   "cell_type": "markdown",
   "metadata": {},
   "source": [
    "Now let's plot this using `Tshock = 10`"
   ]
  },
  {
   "cell_type": "code",
   "execution_count": 26,
   "metadata": {},
   "outputs": [
    {
     "data": {
      "image/png": "[encoded data removed]",
      "text/plain": [
       "<Figure size 432x360 with 1 Axes>"
      ]
     },
     "metadata": {
      "needs_background": "light"
     },
     "output_type": "display_data"
    }
   ],
   "source": [
    "Tshock = 10\n",
    "fig = plt.subplots(1, 1, figsize=(6, 5))\n",
    "plt.plot(-G['ra']['Y']['r_ante'][:20, Tshock], label='RA')\n",
    "plt.plot(-G['ha']['Y']['r_ante'][:20, Tshock], label='HA')\n",
    "plt.axhline(y=0, color='#808080', linestyle=':')\n",
    "plt.title('Impulse response on output to forward guidance')\n",
    "plt.xlabel(r\"Year $(t)$\")\n",
    "plt.ylabel('% deviation from ss')\n",
    "plt.legend(framealpha=0)\n",
    "plt.tight_layout()\n",
    "#plt.savefig('Export/FG_RA_HA_incomeinc_lec2.pdf', format='pdf', transparent=True)\n",
    "plt.show()"
   ]
  },
  {
   "cell_type": "markdown",
   "metadata": {},
   "source": [
    "As discussed in class, the standard HA model with acyclical income risk does not solve the forward guidance puzzle. "
   ]
  },
  {
   "cell_type": "markdown",
   "metadata": {
    "pycharm": {
     "name": "#%% md\n"
    }
   },
   "source": [
    "To go beyond this, we want to move away from income being just $e \\times Y$, so that low-`e` agents are more or less sensitive to `Y`. \n",
    "\n",
    "To do this, we'll change the `income` hetinput. We'll use the following specification from Auclert \\& Rognlie (2018)\n",
    "\n",
    "$$ y_{it} = Y \\cdot \\frac{e_{it}^{1 + \\zeta \\log(Y)}}{\\mathbb{E}[e_{it}^{1 + \\zeta \\log(Y)}]}$$\n",
    "\n",
    "Call this new function `income_cyclical`. "
   ]
  },
  {
   "cell_type": "code",
   "execution_count": 27,
   "metadata": {
    "pycharm": {
     "name": "#%%\n"
    }
   },
   "outputs": [],
   "source": [
    "def income_cyclical(Y,e_grid, e_pdf, zeta):\n",
    "    y = Y * e_grid ** (1 + zeta * np.log(Y)) / np.vdot(e_grid ** (1 + zeta * np.log(Y)), e_pdf)\n",
    "    return y"
   ]
  },
  {
   "cell_type": "markdown",
   "metadata": {},
   "source": [
    "This `hetinput` maps `zeta`, a variable that scales the degree of cyclicality of income risk, to `y` the post-tax labor income of households. When `zeta` = 0, income risk is acyclical but when `zeta` >/< 0, income risk is pro-/counter-cyclical\n",
    "\n",
    "Note that this function requires the pdf of `e`. Since the standard SSJ implementation of `make_grids` doesn't this to us, we rewrite it here with this extra output."
   ]
  },
  {
   "cell_type": "code",
   "execution_count": 28,
   "metadata": {},
   "outputs": [],
   "source": [
    "def make_grids_pdf(rho_e, sd_e, n_e, min_a, max_a, n_a):\n",
    "    e_grid, e_pdf, Pi = sj.grids.markov_rouwenhorst(rho_e, sd_e, n_e)\n",
    "    a_grid = sj.grids.asset_grid(min_a, max_a, n_a)\n",
    "    return e_grid, e_pdf, Pi, a_grid"
   ]
  },
  {
   "cell_type": "markdown",
   "metadata": {},
   "source": [
    "We now define a new `hetblock` and a new `model` with this new functionality added. "
   ]
  },
  {
   "cell_type": "code",
   "execution_count": 29,
   "metadata": {},
   "outputs": [],
   "source": [
    "household_cyc = hh.add_hetinputs([make_grids_pdf, income_cyclical])\n",
    "ha_cyc = sj.create_model([household_cyc, ex_post_rate, mkt_clearing_simple], name=\"HA Model with cyclical income risk\")"
   ]
  },
  {
   "cell_type": "code",
   "execution_count": 30,
   "metadata": {},
   "outputs": [],
   "source": [
    "calib_cyc = calibration.copy()\n",
    "calib_cyc['zeta'] = -0.5"
   ]
  },
  {
   "cell_type": "code",
   "execution_count": 31,
   "metadata": {},
   "outputs": [],
   "source": [
    "ss['ha_cyc'] = ha_cyc.solve_steady_state(calib_cyc, {'beta': (0.75, 0.9)}, ['asset_mkt'])"
   ]
  },
  {
   "cell_type": "markdown",
   "metadata": {},
   "source": [
    "`zeta` should not change the steady state, we check this. "
   ]
  },
  {
   "cell_type": "code",
   "execution_count": 32,
   "metadata": {
    "scrolled": true
   },
   "outputs": [
    {
     "data": {
      "text/plain": [
       "True"
      ]
     },
     "execution_count": 32,
     "metadata": {},
     "output_type": "execute_result"
    }
   ],
   "source": [
    "np.isclose(ss['ha_cyc']['beta'], ss['ha']['beta'])"
   ]
  },
  {
   "cell_type": "code",
   "execution_count": 33,
   "metadata": {
    "pycharm": {
     "name": "#%%\n"
    }
   },
   "outputs": [
    {
     "data": {
      "image/png": "[encoded data removed]",
      "text/plain": [
       "<Figure size 432x360 with 1 Axes>"
      ]
     },
     "metadata": {
      "needs_background": "light"
     },
     "output_type": "display_data"
    }
   ],
   "source": [
    "# Model jacobian in ha models with cyclical risk\n",
    "for zeta, mod in zip([-0.5, 0.5], ['ha_counter', 'ha_pro']):\n",
    "    ss_cyc = ss['ha_cyc'].copy()\n",
    "    ss_cyc['zeta'] = zeta    # income risk does not change the steady state\n",
    "    G[mod] = ha_cyc.solve_jacobian(ss_cyc, ['Y'], ['asset_mkt'], ['r_ante'], T=T)\n",
    "\n",
    "tutil.figure_4(G)"
   ]
  },
  {
   "cell_type": "markdown",
   "metadata": {
    "pycharm": {
     "name": "#%% md\n"
    }
   },
   "source": [
    "## Maturity structure\n",
    "\n",
    "As we saw in lecture, allowing for varying maturity/duration of assets can affect the equilibrium response of consumption to interest rate shocks. \n",
    "\n",
    "Recall the pricing (no-arbitrage) equation for Calvo bonds\n",
    "\n",
    "$$\n",
    "1 + r_t^{ante} = \\frac{1 + \\delta q_{t+1}}{q_t}\n",
    "$$\n"
   ]
  },
  {
   "cell_type": "markdown",
   "metadata": {
    "pycharm": {
     "name": "#%% md\n"
    }
   },
   "source": [
    "We implement this equation as a `SolvedBlock` that returns `q` taking `r_ante` and `delta` as inputs\n",
    "\n",
    "Recall from the fiscal tutorial that the syntax `q(1)` here would denote $q_{t+1}$, given `q` denotes $q_t$"
   ]
  },
  {
   "cell_type": "code",
   "execution_count": 34,
   "metadata": {
    "pycharm": {
     "name": "#%%\n"
    }
   },
   "outputs": [],
   "source": [
    "@sj.solved(unknowns={'q': (0.1, 25)}, targets=['qres'], solver=\"brentq\")\n",
    "def longbonds_price(q, r_ante, delta):\n",
    "    qres = q - (1 + delta * q(+1)) / (1 + r_ante)\n",
    "    return qres"
   ]
  },
  {
   "cell_type": "markdown",
   "metadata": {
    "pycharm": {
     "name": "#%% md\n"
    }
   },
   "source": [
    "Additionally, we will create another block, which yields the ex-post return of the Calvo bonds. The reason we need this additional block is in this model there are valuation effects, i.e. when a shock occurs at period $t = 0$, it re-values the bond's price $q$ but because this shock was unanticipated as of $t = -1$, the actual realized return `r_post` will differ from the expected return as of $t = -1$, i.e. the $t = -1$ ex-ante rate"
   ]
  },
  {
   "cell_type": "code",
   "execution_count": 35,
   "metadata": {
    "pycharm": {
     "name": "#%%\n"
    }
   },
   "outputs": [],
   "source": [
    "@sj.simple\n",
    "def ex_post_longbonds_rate(q, delta):\n",
    "    r = (1 + delta * q)/q(-1) - 1\n",
    "    return r"
   ]
  },
  {
   "cell_type": "markdown",
   "metadata": {
    "pycharm": {
     "name": "#%% md\n"
    }
   },
   "source": [
    "Let's now create a new model object called `long`, solve for its steady state and recreate the figure we saw in lecture"
   ]
  },
  {
   "cell_type": "code",
   "execution_count": 36,
   "metadata": {
    "pycharm": {
     "name": "#%%\n"
    }
   },
   "outputs": [],
   "source": [
    "calibration_long = calibration.copy()\n",
    "calibration_long['delta'] = 0.95\n",
    "\n",
    "models['long'] = sj.create_model([household_simple, ex_post_longbonds_rate, longbonds_price, mkt_clearing_simple], name=\"HA model with long-duration bonds\")\n",
    "ss['long'] = models['long'].solve_steady_state(calibration_long, {'beta': (0.75, 0.9)}, ['asset_mkt'])"
   ]
  },
  {
   "cell_type": "markdown",
   "metadata": {},
   "source": [
    "If we want, we can get the DAG of this model and double-check it vs the lecture"
   ]
  },
  {
   "cell_type": "code",
   "execution_count": 37,
   "metadata": {},
   "outputs": [
    {
     "data": {
      "image/svg+xml": [
       "<?xml version=\"1.0\" encoding=\"UTF-8\" standalone=\"no\"?>\n",
       "<!DOCTYPE svg PUBLIC \"-//W3C//DTD SVG 1.1//EN\"\n",
       " \"http://www.w3.org/Graphics/SVG/1.1/DTD/svg11.dtd\">\n",
       "<!-- Generated by graphviz version 2.40.1 (20161225.0304)\n",
       " -->\n",
       "<!-- Title: %3 Pages: 1 -->\n",
       "<svg width=\"345pt\" height=\"479pt\"\n",
       " viewBox=\"0.00 0.00 345.18 479.00\" xmlns=\"http://www.w3.org/2000/svg\" xmlns:xlink=\"http://www.w3.org/1999/xlink\">\n",
       "<g id=\"graph0\" class=\"graph\" transform=\"scale(1 1) rotate(0) translate(4 475)\">\n",
       "<title>%3</title>\n",
       "<polygon fill=\"#ffffff\" stroke=\"transparent\" points=\"-4,4 -4,-475 341.1811,-475 341.1811,4 -4,4\"/>\n",
       "<!-- exog -->\n",
       "<g id=\"node1\" class=\"node\">\n",
       "<title>exog</title>\n",
       "<polygon fill=\"none\" stroke=\"#000000\" points=\"150.44,-471 74.44,-471 74.44,-435 150.44,-435 150.44,-471\"/>\n",
       "<text text-anchor=\"middle\" x=\"112.44\" y=\"-449.3\" font-family=\"Times,serif\" font-size=\"14.00\" fill=\"#000000\">exogenous</text>\n",
       "</g>\n",
       "<!-- 0 -->\n",
       "<g id=\"node4\" class=\"node\">\n",
       "<title>0</title>\n",
       "<ellipse fill=\"none\" stroke=\"#000000\" cx=\"112.44\" cy=\"-366\" rx=\"110.4804\" ry=\"18\"/>\n",
       "<text text-anchor=\"middle\" x=\"112.44\" y=\"-362.3\" font-family=\"Times,serif\" font-size=\"14.00\" fill=\"#000000\">longbonds_price [solved,0]</text>\n",
       "</g>\n",
       "<!-- exog&#45;&gt;0 -->\n",
       "<g id=\"edge1\" class=\"edge\">\n",
       "<title>exog&#45;&gt;0</title>\n",
       "<path fill=\"none\" stroke=\"#000000\" d=\"M112.44,-434.9735C112.44,-423.1918 112.44,-407.5607 112.44,-394.1581\"/>\n",
       "<polygon fill=\"#000000\" stroke=\"#000000\" points=\"115.9401,-394.0033 112.44,-384.0034 108.9401,-394.0034 115.9401,-394.0033\"/>\n",
       "<text text-anchor=\"middle\" x=\"129.94\" y=\"-405.8\" font-family=\"Times,serif\" font-size=\"14.00\" fill=\"#000000\">r_ante</text>\n",
       "</g>\n",
       "<!-- unknowns -->\n",
       "<g id=\"node2\" class=\"node\">\n",
       "<title>unknowns</title>\n",
       "<polygon fill=\"none\" stroke=\"#000000\" points=\"316.44,-297 242.44,-297 242.44,-261 316.44,-261 316.44,-297\"/>\n",
       "<text text-anchor=\"middle\" x=\"279.44\" y=\"-275.3\" font-family=\"Times,serif\" font-size=\"14.00\" fill=\"#000000\">unknowns</text>\n",
       "</g>\n",
       "<!-- 2 -->\n",
       "<g id=\"node6\" class=\"node\">\n",
       "<title>2</title>\n",
       "<ellipse fill=\"none\" stroke=\"#000000\" cx=\"192.44\" cy=\"-192\" rx=\"50.8918\" ry=\"18\"/>\n",
       "<text text-anchor=\"middle\" x=\"192.44\" y=\"-188.3\" font-family=\"Times,serif\" font-size=\"14.00\" fill=\"#000000\">hh [HA, 2]</text>\n",
       "</g>\n",
       "<!-- unknowns&#45;&gt;2 -->\n",
       "<g id=\"edge3\" class=\"edge\">\n",
       "<title>unknowns&#45;&gt;2</title>\n",
       "<path fill=\"none\" stroke=\"#000000\" d=\"M261.4136,-260.9735C248.5633,-248.1233 231.1337,-230.6937 217.0111,-216.571\"/>\n",
       "<polygon fill=\"#000000\" stroke=\"#000000\" points=\"219.1014,-213.7116 209.5554,-209.1154 214.1516,-218.6614 219.1014,-213.7116\"/>\n",
       "<text text-anchor=\"middle\" x=\"246.94\" y=\"-231.8\" font-family=\"Times,serif\" font-size=\"14.00\" fill=\"#000000\">Y</text>\n",
       "</g>\n",
       "<!-- 3 -->\n",
       "<g id=\"node7\" class=\"node\">\n",
       "<title>3</title>\n",
       "<ellipse fill=\"none\" stroke=\"#000000\" cx=\"236.44\" cy=\"-105\" rx=\"100.9827\" ry=\"18\"/>\n",
       "<text text-anchor=\"middle\" x=\"236.44\" y=\"-101.3\" font-family=\"Times,serif\" font-size=\"14.00\" fill=\"#000000\">mkt_clearing_simple [3]</text>\n",
       "</g>\n",
       "<!-- unknowns&#45;&gt;3 -->\n",
       "<g id=\"edge5\" class=\"edge\">\n",
       "<title>unknowns&#45;&gt;3</title>\n",
       "<path fill=\"none\" stroke=\"#000000\" d=\"M275.9982,-260.9927C270.8003,-234.5083 260.2874,-183.5823 248.44,-141 247.7039,-138.3541 246.8893,-135.6153 246.0413,-132.884\"/>\n",
       "<polygon fill=\"#000000\" stroke=\"#000000\" points=\"249.3168,-131.6381 242.9043,-123.2042 242.6577,-133.7962 249.3168,-131.6381\"/>\n",
       "<text text-anchor=\"middle\" x=\"269.94\" y=\"-188.3\" font-family=\"Times,serif\" font-size=\"14.00\" fill=\"#000000\">Y</text>\n",
       "</g>\n",
       "<!-- targets -->\n",
       "<g id=\"node3\" class=\"node\">\n",
       "<title>targets</title>\n",
       "<polygon fill=\"none\" stroke=\"#000000\" points=\"236.44,-36 186.6707,-18 236.44,0 286.2094,-18 236.44,-36\"/>\n",
       "<text text-anchor=\"middle\" x=\"236.44\" y=\"-14.3\" font-family=\"Times,serif\" font-size=\"14.00\" fill=\"#000000\">targets</text>\n",
       "</g>\n",
       "<!-- 1 -->\n",
       "<g id=\"node5\" class=\"node\">\n",
       "<title>1</title>\n",
       "<ellipse fill=\"none\" stroke=\"#000000\" cx=\"112.44\" cy=\"-279\" rx=\"112.3801\" ry=\"18\"/>\n",
       "<text text-anchor=\"middle\" x=\"112.44\" y=\"-275.3\" font-family=\"Times,serif\" font-size=\"14.00\" fill=\"#000000\">ex_post_longbonds_rate [1]</text>\n",
       "</g>\n",
       "<!-- 0&#45;&gt;1 -->\n",
       "<g id=\"edge2\" class=\"edge\">\n",
       "<title>0&#45;&gt;1</title>\n",
       "<path fill=\"none\" stroke=\"#000000\" d=\"M112.44,-347.9735C112.44,-336.1918 112.44,-320.5607 112.44,-307.1581\"/>\n",
       "<polygon fill=\"#000000\" stroke=\"#000000\" points=\"115.9401,-307.0033 112.44,-297.0034 108.9401,-307.0034 115.9401,-307.0033\"/>\n",
       "<text text-anchor=\"middle\" x=\"116.44\" y=\"-318.8\" font-family=\"Times,serif\" font-size=\"14.00\" fill=\"#000000\">q</text>\n",
       "</g>\n",
       "<!-- 1&#45;&gt;2 -->\n",
       "<g id=\"edge4\" class=\"edge\">\n",
       "<title>1&#45;&gt;2</title>\n",
       "<path fill=\"none\" stroke=\"#000000\" d=\"M129.0161,-260.9735C140.8324,-248.1233 156.8596,-230.6937 169.846,-216.571\"/>\n",
       "<polygon fill=\"#000000\" stroke=\"#000000\" points=\"172.5093,-218.8455 176.7017,-209.1154 167.3566,-214.1073 172.5093,-218.8455\"/>\n",
       "<text text-anchor=\"middle\" x=\"159.94\" y=\"-231.8\" font-family=\"Times,serif\" font-size=\"14.00\" fill=\"#000000\">r</text>\n",
       "</g>\n",
       "<!-- 2&#45;&gt;3 -->\n",
       "<g id=\"edge7\" class=\"edge\">\n",
       "<title>2&#45;&gt;3</title>\n",
       "<path fill=\"none\" stroke=\"#000000\" d=\"M201.5569,-173.9735C207.6924,-161.8418 215.8922,-145.6287 222.8001,-131.9698\"/>\n",
       "<polygon fill=\"#000000\" stroke=\"#000000\" points=\"225.945,-133.5066 227.3349,-123.0034 219.6984,-130.3474 225.945,-133.5066\"/>\n",
       "<text text-anchor=\"middle\" x=\"230.94\" y=\"-144.8\" font-family=\"Times,serif\" font-size=\"14.00\" fill=\"#000000\">A, C</text>\n",
       "</g>\n",
       "<!-- 3&#45;&gt;targets -->\n",
       "<g id=\"edge6\" class=\"edge\">\n",
       "<title>3&#45;&gt;targets</title>\n",
       "<path fill=\"none\" stroke=\"#000000\" d=\"M236.44,-86.9735C236.44,-75.1918 236.44,-59.5607 236.44,-46.1581\"/>\n",
       "<polygon fill=\"#000000\" stroke=\"#000000\" points=\"239.9401,-46.0033 236.44,-36.0034 232.9401,-46.0034 239.9401,-46.0033\"/>\n",
       "<text text-anchor=\"middle\" x=\"264.44\" y=\"-57.8\" font-family=\"Times,serif\" font-size=\"14.00\" fill=\"#000000\">asset_mkt</text>\n",
       "</g>\n",
       "</g>\n",
       "</svg>\n"
      ],
      "text/plain": [
       "<graphviz.dot.Digraph at 0x7ffbbaffae80>"
      ]
     },
     "metadata": {},
     "output_type": "display_data"
    }
   ],
   "source": [
    "sj.drawdag(models['long'],exogenous={'r_ante'}, unknowns={'Y'},targets={'asset_mkt'})"
   ]
  },
  {
   "cell_type": "code",
   "execution_count": 38,
   "metadata": {
    "pycharm": {
     "name": "#%%\n"
    }
   },
   "outputs": [
    {
     "data": {
      "image/png": "[encoded data removed]",
      "text/plain": [
       "<Figure size 432x360 with 1 Axes>"
      ]
     },
     "metadata": {
      "needs_background": "light"
     },
     "output_type": "display_data"
    }
   ],
   "source": [
    "irf_long = {}\n",
    "for mod in ['ha', 'ra', 'long']:\n",
    "    hh_name = 'household_ra' if mod == 'ra' else 'household'\n",
    "    irf_long[mod] = models[mod].solve_impulse_linear(ss[mod], ['Y'], ['asset_mkt'], {'r_ante': dr})\n",
    "\n",
    "tutil.figure_5(irf_long, ss)"
   ]
  },
  {
   "cell_type": "markdown",
   "metadata": {
    "pycharm": {
     "name": "#%% md\n"
    }
   },
   "source": [
    "## Nominal assets - the \"Fisher\" effect\n",
    "\n",
    "If instead of real assets households held nominal assets then in spite of following a real rate rule, inflation will matter due to a valuation effect on nominal debt due to inflation surprises, which we call the \"Fisher effect\"\n",
    "\n",
    "First, we will build out the nominal side of the model, writing down a block to represent the New Keynesian Phillips Curve"
   ]
  },
  {
   "cell_type": "code",
   "execution_count": 39,
   "metadata": {
    "pycharm": {
     "name": "#%%\n"
    }
   },
   "outputs": [],
   "source": [
    "@sj.simple\n",
    "def nkpc(pi, Y, C, theta_w, vphi, frisch, markup_ss, eis, beta):\n",
    "    kappa_w = (1 - theta_w) * (1 - beta * theta_w)/theta_w\n",
    "    piw = pi\n",
    "    piwres = kappa_w * (vphi * (Y)**(1/frisch) - 1/markup_ss * C**(-1/eis)) + beta * piw(1) - piw\n",
    "    return piwres, piw\n",
    "\n",
    "\n",
    "@sj.simple\n",
    "def ex_post_nom_asset_rate(r_ante, pi):\n",
    "    i = r_ante + pi(1)\n",
    "    r = i(-1) - pi\n",
    "    return r\n",
    "\n",
    "calibration_nom_asset = calibration.copy()\n",
    "calibration_nom_asset['pi'] = 0.  # look at the zero-inflation steady state\n",
    "calibration_nom_asset['markup_ss'] = 1.015\n",
    "calibration_nom_asset['theta_w'] = 0.66\n",
    "calibration_nom_asset['frisch'] = 0.5\n",
    "\n",
    "models['nom_assets'] = sj.create_model([household_simple, nkpc, ex_post_nom_asset_rate, \n",
    "                                        mkt_clearing_simple], name=\"HA model with nominal, short-term bonds\")\n",
    "ss['nom_assets'] = models['nom_assets'].solve_steady_state(calibration_nom_asset, {'beta': 0.8, 'vphi': 0.8},\n",
    "                                                           ['asset_mkt', 'piwres'])"
   ]
  },
  {
   "cell_type": "markdown",
   "metadata": {},
   "source": [
    "The DAG now here, as promised: "
   ]
  },
  {
   "cell_type": "code",
   "execution_count": 40,
   "metadata": {},
   "outputs": [
    {
     "data": {
      "image/svg+xml": [
       "<?xml version=\"1.0\" encoding=\"UTF-8\" standalone=\"no\"?>\n",
       "<!DOCTYPE svg PUBLIC \"-//W3C//DTD SVG 1.1//EN\"\n",
       " \"http://www.w3.org/Graphics/SVG/1.1/DTD/svg11.dtd\">\n",
       "<!-- Generated by graphviz version 2.40.1 (20161225.0304)\n",
       " -->\n",
       "<!-- Title: %3 Pages: 1 -->\n",
       "<svg width=\"380pt\" height=\"392pt\"\n",
       " viewBox=\"0.00 0.00 379.66 392.00\" xmlns=\"http://www.w3.org/2000/svg\" xmlns:xlink=\"http://www.w3.org/1999/xlink\">\n",
       "<g id=\"graph0\" class=\"graph\" transform=\"scale(1 1) rotate(0) translate(4 388)\">\n",
       "<title>%3</title>\n",
       "<polygon fill=\"#ffffff\" stroke=\"transparent\" points=\"-4,4 -4,-388 375.6575,-388 375.6575,4 -4,4\"/>\n",
       "<!-- exog -->\n",
       "<g id=\"node1\" class=\"node\">\n",
       "<title>exog</title>\n",
       "<polygon fill=\"none\" stroke=\"#000000\" points=\"371.6575,-384 295.6575,-384 295.6575,-348 371.6575,-348 371.6575,-384\"/>\n",
       "<text text-anchor=\"middle\" x=\"333.6575\" y=\"-362.3\" font-family=\"Times,serif\" font-size=\"14.00\" fill=\"#000000\">exogenous</text>\n",
       "</g>\n",
       "<!-- 0 -->\n",
       "<g id=\"node4\" class=\"node\">\n",
       "<title>0</title>\n",
       "<ellipse fill=\"none\" stroke=\"#000000\" cx=\"159.6575\" cy=\"-279\" rx=\"113.18\" ry=\"18\"/>\n",
       "<text text-anchor=\"middle\" x=\"159.6575\" y=\"-275.3\" font-family=\"Times,serif\" font-size=\"14.00\" fill=\"#000000\">ex_post_nom_asset_rate [0]</text>\n",
       "</g>\n",
       "<!-- exog&#45;&gt;0 -->\n",
       "<g id=\"edge1\" class=\"edge\">\n",
       "<title>exog&#45;&gt;0</title>\n",
       "<path fill=\"none\" stroke=\"#000000\" d=\"M297.6046,-347.9735C270.209,-334.2758 232.4072,-315.3749 203.3021,-300.8223\"/>\n",
       "<polygon fill=\"#000000\" stroke=\"#000000\" points=\"204.6917,-297.604 194.1821,-296.2623 201.5612,-303.865 204.6917,-297.604\"/>\n",
       "<text text-anchor=\"middle\" x=\"274.1575\" y=\"-318.8\" font-family=\"Times,serif\" font-size=\"14.00\" fill=\"#000000\">r_ante</text>\n",
       "</g>\n",
       "<!-- unknowns -->\n",
       "<g id=\"node2\" class=\"node\">\n",
       "<title>unknowns</title>\n",
       "<polygon fill=\"none\" stroke=\"#000000\" points=\"90.6575,-384 16.6575,-384 16.6575,-348 90.6575,-348 90.6575,-384\"/>\n",
       "<text text-anchor=\"middle\" x=\"53.6575\" y=\"-362.3\" font-family=\"Times,serif\" font-size=\"14.00\" fill=\"#000000\">unknowns</text>\n",
       "</g>\n",
       "<!-- unknowns&#45;&gt;0 -->\n",
       "<g id=\"edge2\" class=\"edge\">\n",
       "<title>unknowns&#45;&gt;0</title>\n",
       "<path fill=\"none\" stroke=\"#000000\" d=\"M75.6208,-347.9735C91.3589,-335.0564 112.7346,-317.5122 129.9887,-303.3508\"/>\n",
       "<polygon fill=\"#000000\" stroke=\"#000000\" points=\"132.5757,-305.7555 138.085,-296.7057 128.1347,-300.3446 132.5757,-305.7555\"/>\n",
       "<text text-anchor=\"middle\" x=\"119.1575\" y=\"-318.8\" font-family=\"Times,serif\" font-size=\"14.00\" fill=\"#000000\">pi</text>\n",
       "</g>\n",
       "<!-- 1 -->\n",
       "<g id=\"node5\" class=\"node\">\n",
       "<title>1</title>\n",
       "<ellipse fill=\"none\" stroke=\"#000000\" cx=\"148.6575\" cy=\"-192\" rx=\"50.8918\" ry=\"18\"/>\n",
       "<text text-anchor=\"middle\" x=\"148.6575\" y=\"-188.3\" font-family=\"Times,serif\" font-size=\"14.00\" fill=\"#000000\">hh [HA, 1]</text>\n",
       "</g>\n",
       "<!-- unknowns&#45;&gt;1 -->\n",
       "<g id=\"edge3\" class=\"edge\">\n",
       "<title>unknowns&#45;&gt;1</title>\n",
       "<path fill=\"none\" stroke=\"#000000\" d=\"M41.1054,-347.7702C27.7321,-325.8731 10.5358,-288.6396 26.6575,-261 42.2173,-234.3237 72.334,-217.1389 98.75,-206.5909\"/>\n",
       "<polygon fill=\"#000000\" stroke=\"#000000\" points=\"100.1572,-209.801 108.2809,-202.9998 97.689,-203.2505 100.1572,-209.801\"/>\n",
       "<text text-anchor=\"middle\" x=\"32.1575\" y=\"-275.3\" font-family=\"Times,serif\" font-size=\"14.00\" fill=\"#000000\">Y</text>\n",
       "</g>\n",
       "<!-- 2 -->\n",
       "<g id=\"node6\" class=\"node\">\n",
       "<title>2</title>\n",
       "<ellipse fill=\"none\" stroke=\"#000000\" cx=\"105.6575\" cy=\"-105\" rx=\"41.6928\" ry=\"18\"/>\n",
       "<text text-anchor=\"middle\" x=\"105.6575\" y=\"-101.3\" font-family=\"Times,serif\" font-size=\"14.00\" fill=\"#000000\">nkpc [2]</text>\n",
       "</g>\n",
       "<!-- unknowns&#45;&gt;2 -->\n",
       "<g id=\"edge5\" class=\"edge\">\n",
       "<title>unknowns&#45;&gt;2</title>\n",
       "<path fill=\"none\" stroke=\"#000000\" d=\"M34.845,-347.927C30.2144,-342.5644 25.7133,-336.4012 22.6575,-330 2.9177,-288.6491 -7.4666,-271.2529 7.6575,-228 21.7257,-187.7667 55.077,-150.8645 78.9632,-128.1913\"/>\n",
       "<polygon fill=\"#000000\" stroke=\"#000000\" points=\"81.3955,-130.709 86.3494,-121.3437 76.6364,-125.5757 81.3955,-130.709\"/>\n",
       "<text text-anchor=\"middle\" x=\"22.1575\" y=\"-231.8\" font-family=\"Times,serif\" font-size=\"14.00\" fill=\"#000000\">pi, Y</text>\n",
       "</g>\n",
       "<!-- 3 -->\n",
       "<g id=\"node7\" class=\"node\">\n",
       "<title>3</title>\n",
       "<ellipse fill=\"none\" stroke=\"#000000\" cx=\"265.6575\" cy=\"-105\" rx=\"100.9827\" ry=\"18\"/>\n",
       "<text text-anchor=\"middle\" x=\"265.6575\" y=\"-101.3\" font-family=\"Times,serif\" font-size=\"14.00\" fill=\"#000000\">mkt_clearing_simple [3]</text>\n",
       "</g>\n",
       "<!-- unknowns&#45;&gt;3 -->\n",
       "<g id=\"edge8\" class=\"edge\">\n",
       "<title>unknowns&#45;&gt;3</title>\n",
       "<path fill=\"none\" stroke=\"#000000\" d=\"M90.8071,-360.1914C149.3533,-350.1942 258.7976,-327.8019 281.6575,-297 317.6762,-248.4676 294.8795,-172.7962 278.349,-132.4731\"/>\n",
       "<polygon fill=\"#000000\" stroke=\"#000000\" points=\"281.4612,-130.8484 274.3209,-123.0211 275.0216,-133.5927 281.4612,-130.8484\"/>\n",
       "<text text-anchor=\"middle\" x=\"306.1575\" y=\"-231.8\" font-family=\"Times,serif\" font-size=\"14.00\" fill=\"#000000\">Y</text>\n",
       "</g>\n",
       "<!-- targets -->\n",
       "<g id=\"node3\" class=\"node\">\n",
       "<title>targets</title>\n",
       "<polygon fill=\"none\" stroke=\"#000000\" points=\"184.6575,-36 134.8881,-18 184.6575,0 234.4268,-18 184.6575,-36\"/>\n",
       "<text text-anchor=\"middle\" x=\"184.6575\" y=\"-14.3\" font-family=\"Times,serif\" font-size=\"14.00\" fill=\"#000000\">targets</text>\n",
       "</g>\n",
       "<!-- 0&#45;&gt;1 -->\n",
       "<g id=\"edge4\" class=\"edge\">\n",
       "<title>0&#45;&gt;1</title>\n",
       "<path fill=\"none\" stroke=\"#000000\" d=\"M157.3783,-260.9735C155.8886,-249.1918 153.9123,-233.5607 152.2177,-220.1581\"/>\n",
       "<polygon fill=\"#000000\" stroke=\"#000000\" points=\"155.6606,-219.4853 150.9338,-210.0034 148.7159,-220.3634 155.6606,-219.4853\"/>\n",
       "<text text-anchor=\"middle\" x=\"157.1575\" y=\"-231.8\" font-family=\"Times,serif\" font-size=\"14.00\" fill=\"#000000\">r</text>\n",
       "</g>\n",
       "<!-- 1&#45;&gt;2 -->\n",
       "<g id=\"edge7\" class=\"edge\">\n",
       "<title>1&#45;&gt;2</title>\n",
       "<path fill=\"none\" stroke=\"#000000\" d=\"M139.7479,-173.9735C133.7117,-161.7609 125.6314,-145.4123 118.8526,-131.697\"/>\n",
       "<polygon fill=\"#000000\" stroke=\"#000000\" points=\"121.9772,-130.1197 114.4086,-122.7057 115.7018,-133.2213 121.9772,-130.1197\"/>\n",
       "<text text-anchor=\"middle\" x=\"134.6575\" y=\"-144.8\" font-family=\"Times,serif\" font-size=\"14.00\" fill=\"#000000\">C</text>\n",
       "</g>\n",
       "<!-- 1&#45;&gt;3 -->\n",
       "<g id=\"edge10\" class=\"edge\">\n",
       "<title>1&#45;&gt;3</title>\n",
       "<path fill=\"none\" stroke=\"#000000\" d=\"M170.6643,-175.636C188.3881,-162.4567 213.553,-143.7444 233.5292,-128.8902\"/>\n",
       "<polygon fill=\"#000000\" stroke=\"#000000\" points=\"235.7999,-131.5634 241.736,-122.7878 231.6229,-125.9462 235.7999,-131.5634\"/>\n",
       "<text text-anchor=\"middle\" x=\"227.1575\" y=\"-144.8\" font-family=\"Times,serif\" font-size=\"14.00\" fill=\"#000000\">A, C</text>\n",
       "</g>\n",
       "<!-- 2&#45;&gt;targets -->\n",
       "<g id=\"edge6\" class=\"edge\">\n",
       "<title>2&#45;&gt;targets</title>\n",
       "<path fill=\"none\" stroke=\"#000000\" d=\"M120.8895,-88.2255C133.5251,-74.3104 151.57,-54.4381 165.2414,-39.3823\"/>\n",
       "<polygon fill=\"#000000\" stroke=\"#000000\" points=\"168.1932,-41.338 172.3246,-31.5818 163.0109,-36.6322 168.1932,-41.338\"/>\n",
       "<text text-anchor=\"middle\" x=\"168.6575\" y=\"-57.8\" font-family=\"Times,serif\" font-size=\"14.00\" fill=\"#000000\">piwres</text>\n",
       "</g>\n",
       "<!-- 3&#45;&gt;targets -->\n",
       "<g id=\"edge9\" class=\"edge\">\n",
       "<title>3&#45;&gt;targets</title>\n",
       "<path fill=\"none\" stroke=\"#000000\" d=\"M248.8742,-86.9735C235.9718,-73.1154 218.111,-53.9315 204.5005,-39.3129\"/>\n",
       "<polygon fill=\"#000000\" stroke=\"#000000\" points=\"206.8108,-36.6579 197.4349,-31.7239 201.6875,-41.4279 206.8108,-36.6579\"/>\n",
       "<text text-anchor=\"middle\" x=\"257.6575\" y=\"-57.8\" font-family=\"Times,serif\" font-size=\"14.00\" fill=\"#000000\">asset_mkt</text>\n",
       "</g>\n",
       "</g>\n",
       "</svg>\n"
      ],
      "text/plain": [
       "<graphviz.dot.Digraph at 0x7ffbbb0af1c0>"
      ]
     },
     "metadata": {},
     "output_type": "display_data"
    }
   ],
   "source": [
    "sj.drawdag(models['nom_assets'],exogenous={'r_ante'}, unknowns={'Y','pi'},targets={'asset_mkt','piwres'})"
   ]
  },
  {
   "cell_type": "code",
   "execution_count": 41,
   "metadata": {
    "pycharm": {
     "name": "#%%\n"
    }
   },
   "outputs": [
    {
     "data": {
      "image/png": "[encoded data removed]",
      "text/plain": [
       "<Figure size 576x273.6 with 2 Axes>"
      ]
     },
     "metadata": {
      "needs_background": "light"
     },
     "output_type": "display_data"
    }
   ],
   "source": [
    "# Compute IRF in different models\n",
    "G, irf_Y, irf_r_post = {}, {}, {}\n",
    "theta_list = [1 - 1e-10, 0.8, 0.66]\n",
    "for i, theta_w in enumerate(theta_list):\n",
    "    calibration_theta = calibration_nom_asset.copy()\n",
    "    calibration_theta[\"theta_w\"] = theta_w\n",
    "    ss_nom = models['nom_assets'].solve_steady_state(calibration_theta, {'beta': 0.8, 'vphi': 0.8}, ['asset_mkt', 'piwres'])\n",
    "    irf_here = models['nom_assets'].solve_impulse_linear(ss_nom, ['Y', 'pi'], ['asset_mkt', 'piwres'], {'r_ante': dr})\n",
    "    irf_Y[i], irf_r_post[i] = irf_here[\"Y\"], irf_here[\"r\"]\n",
    "\n",
    "tutil.figure_6(theta_list, irf_Y, irf_r_post)"
   ]
  },
  {
   "cell_type": "markdown",
   "metadata": {},
   "source": [
    "#### Exercise 1: obtaining the solution using the GE Jacobian"
   ]
  },
  {
   "cell_type": "markdown",
   "metadata": {
    "pycharm": {
     "name": "#%% md\n"
    }
   },
   "source": [
    "Instead of `solve_impulse_linear`, calculate the general equilibrium Jacobian using the `solve_jacobian` routine. Then, calculate the output response to the interest rate shock `dr`, and check that you get the same solution. "
   ]
  },
  {
   "cell_type": "markdown",
   "metadata": {},
   "source": [
    "**Solution**: We'll first look for the arguments of `solve_jacobian` by calling the help. "
   ]
  },
  {
   "cell_type": "code",
   "execution_count": 42,
   "metadata": {},
   "outputs": [
    {
     "name": "stdout",
     "output_type": "stream",
     "text": [
      "Help on method solve_jacobian in module sequence_jacobian.blocks.block:\n",
      "\n",
      "solve_jacobian(ss: sequence_jacobian.classes.steady_state_dict.SteadyStateDict, unknowns: List[str], targets: List[str], inputs: List[str], outputs: Union[List[str], NoneType] = None, T: int = 300, Js: Dict[str, sequence_jacobian.classes.jacobian_dict.JacobianDict] = {}, options: Dict[str, dict] = {}, H_U_factored: Union[sequence_jacobian.classes.jacobian_dict.FactoredJacobianDict, NoneType] = None, **kwargs) -> sequence_jacobian.classes.jacobian_dict.JacobianDict method of sequence_jacobian.blocks.combined_block.CombinedBlock instance\n",
      "    Calculate a general equilibrium Jacobian to a set of `exogenous` shocks\n",
      "    at a steady state `ss`, given a set of `unknowns` and `targets` corresponding to the endogenous\n",
      "    variables to be solved for and the target conditions that must hold in general equilibrium\n",
      "\n"
     ]
    }
   ],
   "source": [
    "help(ha_simple.solve_jacobian)"
   ]
  },
  {
   "cell_type": "markdown",
   "metadata": {},
   "source": [
    "Just like above we need to specify the steady state, the unknown `Y`, the target `asset_market`, and the inputs (shock) `r_ante`, this time as a list rather than the input dict `{'r_ante': dr}`, and then `T`, which is the Jacobian truncation horizon. "
   ]
  },
  {
   "cell_type": "code",
   "execution_count": 43,
   "metadata": {
    "pycharm": {
     "name": "#%%\n"
    }
   },
   "outputs": [],
   "source": [
    "# Define shock and compute GE response of output\n",
    "G_here = models['ha'].solve_jacobian(ss['ha'], ['Y'], ['asset_mkt'], ['r_ante'], T=T)"
   ]
  },
  {
   "cell_type": "markdown",
   "metadata": {
    "pycharm": {
     "name": "#%% md\n"
    }
   },
   "source": [
    "Now, we can calculate what the general equilibrium output response is to an interest rate shock"
   ]
  },
  {
   "cell_type": "code",
   "execution_count": 44,
   "metadata": {
    "pycharm": {
     "name": "#%%\n"
    }
   },
   "outputs": [],
   "source": [
    "dY_here = G_here['Y']['r_ante'] @ dr"
   ]
  },
  {
   "cell_type": "markdown",
   "metadata": {},
   "source": [
    "Finally, we check that this is the same solution as the above. "
   ]
  },
  {
   "cell_type": "code",
   "execution_count": 45,
   "metadata": {
    "scrolled": false
   },
   "outputs": [
    {
     "data": {
      "text/plain": [
       "True"
      ]
     },
     "execution_count": 45,
     "metadata": {},
     "output_type": "execute_result"
    }
   ],
   "source": [
    "np.allclose(dY_here, irf['ha']['Y'])"
   ]
  },
  {
   "cell_type": "markdown",
   "metadata": {
    "pycharm": {
     "name": "#%% md\n"
    }
   },
   "source": [
    "**Exercise 2**: Instead of using a `CombinedBlock` to get the direct effect of monetary policy through `r`, do the same by manually chaining the relevant Jacobians along the DAG using the matrix multiply (`@`) operator. \n"
   ]
  },
  {
   "cell_type": "markdown",
   "metadata": {
    "pycharm": {
     "name": "#%% md\n"
    }
   },
   "source": [
    "**Solution**"
   ]
  },
  {
   "cell_type": "code",
   "execution_count": 46,
   "metadata": {
    "pycharm": {
     "name": "#%%\n"
    }
   },
   "outputs": [],
   "source": [
    "J_r_rante = models['ha']['ex_post_rate'].jacobian(ss['ha'], ['r_ante'], T=T)['r']['r_ante']\n",
    "J_C_r = models['ha']['hh'].jacobian(ss['ha'], ['r'], T=T)['C']['r']\n",
    "\n",
    "dC_dr_manual = J_C_r @ J_r_rante @ dr\n",
    "\n",
    "assert np.all(np.isclose(dC_dr['ha'], dC_dr_manual))"
   ]
  },
  {
   "cell_type": "markdown",
   "metadata": {},
   "source": [
    "**Exercise 3**: Code up the fiscal policy model from class, replicate the result about the ranking of the output effect of monetary policy vs that of the fiscal effect on demand.\n",
    "\n",
    "Take the initial steady state levels of $G = 0.2$ and $B = 0.5$ and set the adjustment coefficients $\\phi_G = \\phi_T = 0.1$.\n",
    "Also, set the shock to the ex-ante interest rate to have an impact effect of 0.1 percentage point and a persistence of $0.7$"
   ]
  },
  {
   "cell_type": "markdown",
   "metadata": {
    "pycharm": {
     "name": "#%% md\n"
    }
   },
   "source": [
    "**Solution**"
   ]
  },
  {
   "cell_type": "code",
   "execution_count": 47,
   "metadata": {
    "pycharm": {
     "name": "#%%\n"
    }
   },
   "outputs": [],
   "source": [
    "def income_fiscal(atw_n, e_grid):\n",
    "    # post-tax labor income\n",
    "    y = atw_n * e_grid\n",
    "    return y\n",
    "\n",
    "household_fiscal = hh.add_hetinputs([make_grids, income_fiscal])\n",
    "\n",
    "@sj.simple\n",
    "def fiscal_BB(r, B, G, Y):\n",
    "    T = G + r * B\n",
    "    atw_n = (Y - T)\n",
    "    return T, atw_n\n",
    "\n",
    "\n",
    "@sj.simple\n",
    "def fiscal_Trule(r, G, B, Y):\n",
    "    T = G + r * B\n",
    "    atw_n = (Y - T)\n",
    "    return T, atw_n\n",
    "\n",
    "\n",
    "@sj.simple\n",
    "def fiscal_Grule(r, T, B, Y):\n",
    "    G = T - r * B\n",
    "    atw_n = (Y - T)\n",
    "    return G, atw_n\n",
    "\n",
    "\n",
    "@sj.solved(unknowns={'B': 0}, targets=['Bres'], solver=\"brentq\")\n",
    "def fiscal_deficit_Trule(r, G, B, Tss, phi_T, Y):\n",
    "    T = Tss + phi_T * (B(-1) - B.ss)\n",
    "    Bres = (1 + r) * B(-1) + G - T - B\n",
    "    atw_n = (Y - T)\n",
    "    return T, Bres, atw_n\n",
    "\n",
    "\n",
    "@sj.solved(unknowns={'B': 0}, targets=['Bres'], solver=\"brentq\")\n",
    "def fiscal_deficit_Grule(r, T, B, Gss, phi_G, Y):\n",
    "    G = Gss - phi_G * (B(-1) - B.ss)\n",
    "    Bres = (1 + r) * B(-1) + G - T - B\n",
    "    atw_n = (Y - T)\n",
    "    return G, Bres, atw_n\n",
    "\n",
    "\n",
    "@sj.simple\n",
    "def mkt_clearing_fiscal(A, B, Y, C, G):\n",
    "    asset_mkt = A - B\n",
    "    goods_mkt = C + G - Y\n",
    "    return asset_mkt, goods_mkt"
   ]
  },
  {
   "cell_type": "code",
   "execution_count": 48,
   "metadata": {
    "pycharm": {
     "name": "#%%\n"
    }
   },
   "outputs": [],
   "source": [
    "# Models with Fiscal Adjustment Dynamics\n",
    "models[\"ha_BB\"] = sj.create_model([household_fiscal, mkt_clearing_fiscal, ex_post_rate, fiscal_Trule],\n",
    "                                  name=\"HA w/ T Rule\")\n",
    "models[\"ha_Trule\"] = sj.create_model([household_fiscal, mkt_clearing_fiscal, ex_post_rate, fiscal_Trule],\n",
    "                                     name=\"HA w/ T Rule\")\n",
    "models[\"ha_Grule\"] = sj.create_model([household_fiscal, mkt_clearing_fiscal, ex_post_rate, fiscal_Grule],\n",
    "                                     name=\"HA w/ G Rule\")\n",
    "models[\"ha_Deficit_Trule\"] = sj.create_model([household_fiscal, mkt_clearing_fiscal, ex_post_rate, fiscal_deficit_Trule],\n",
    "                                             name=\"HA w/ Deficit-Financed T Rule\")\n",
    "models[\"ha_Deficit_Grule\"] = sj.create_model([household_fiscal, mkt_clearing_fiscal, ex_post_rate, fiscal_deficit_Grule],\n",
    "                                             name=\"HA w/ Deficit-Financed G Rule\")"
   ]
  },
  {
   "cell_type": "code",
   "execution_count": 49,
   "metadata": {
    "pycharm": {
     "name": "#%%\n"
    }
   },
   "outputs": [],
   "source": [
    "# Solve for the steady state (the same for all models here)\n",
    "calibration_fiscal = calibration.copy()\n",
    "calibration_fiscal.update({'B': 0.5, 'G': 0.2})\n",
    "ss['ha_fiscal'] = models['ha_BB'].solve_steady_state(calibration_fiscal, {'beta': (0.75, 0.9)}, ['asset_mkt'],\n",
    "                                                     solver='brentq', ttol=1e-14)\n",
    "ss['ha_fiscal']['Tss'] = ss['ha_fiscal']['T']\n",
    "ss['ha_fiscal']['Gss'] = ss['ha_fiscal']['G']\n",
    "ss['ha_fiscal']['phi_T'] = ss['ha_fiscal']['phi_G'] = 0.1"
   ]
  },
  {
   "cell_type": "code",
   "execution_count": 50,
   "metadata": {
    "pycharm": {
     "name": "#%%\n"
    }
   },
   "outputs": [
    {
     "data": {
      "image/png": "[encoded data removed]",
      "text/plain": [
       "<Figure size 576x273.6 with 2 Axes>"
      ]
     },
     "metadata": {
      "needs_background": "light"
     },
     "output_type": "display_data"
    }
   ],
   "source": [
    "T = 300\n",
    "dr_ante = -0.01 * 0.7 ** np.arange(T)\n",
    "\n",
    "irf_fiscal = {}\n",
    "m_list = ['ha_Trule', 'ha_Grule', 'ha_Deficit_Trule', 'ha_Deficit_Grule']\n",
    "for m in m_list:\n",
    "    irf_fiscal[m] = models[m].solve_impulse_linear(ss['ha_fiscal'], ['Y'], ['asset_mkt'], {'r_ante': dr_ante})\n",
    "\n",
    "# Plot\n",
    "fig, (ax1, ax2) = plt.subplots(1, 2, figsize=(8, 3.8))\n",
    "ax1.set_title('Output response')\n",
    "for m in m_list:\n",
    "    ax1.plot(100 * irf_fiscal[m]['Y'][0:20], label=m)\n",
    "ax1.set_ylabel('% deviation from ss')\n",
    "ax1.set_xlabel(r\"Year $(t)$\")\n",
    "ax2.set_title('Real rate shock')\n",
    "ax2.plot(100 * dr[0:20])\n",
    "ax2.set_xlabel(r\"Year $(t)$\")\n",
    "ax2.set_ylabel('pp deviation from ss')\n",
    "plt.tight_layout()\n",
    "plt.show()"
   ]
  },
  {
   "cell_type": "markdown",
   "metadata": {},
   "source": [
    "**Exercise 4**: Code up the investment model from class, replicate the result on the complementarity between HA and investment, using a *unit* shock to the ex-ante real interest rate with persistence $0.7$"
   ]
  },
  {
   "cell_type": "code",
   "execution_count": 51,
   "metadata": {
    "pycharm": {
     "name": "#%%\n"
    }
   },
   "outputs": [],
   "source": [
    "@sj.simple\n",
    "def firm(K, N, Z, alpha):\n",
    "    Y = Z * K(-1) ** alpha * N ** (1 - alpha)\n",
    "    mpk = alpha * Y / K(-1)\n",
    "    w = (1 - alpha) * Y        # total earnings, NOT per unit of labor\n",
    "    return Y, mpk, w\n",
    "\n",
    "\n",
    "@sj.simple\n",
    "def finance(q, K, mpk, deltaK, Psi):\n",
    "    Q = mpk - (K/K(-1) - (1 - deltaK) + Psi/2 * (K/K(-1) - 1)**2) + K/K(-1) * q\n",
    "    r = Q / q(-1) - 1\n",
    "    asset = q * K\n",
    "    return Q, r, asset\n",
    "\n",
    "\n",
    "@sj.simple\n",
    "def investment(q, Q, K, r_ante, deltaK, Psi):\n",
    "    inv = Psi * (K/K(-1) - 1) + 1 - q\n",
    "    val = q - Q(1)/(1 + r_ante)\n",
    "    I = K - (1 - deltaK) * K(-1) + Psi/2 * (K/K(-1) - 1)**2 * K(-1)\n",
    "    return inv, val, I\n",
    "\n",
    "\n",
    "@sj.simple\n",
    "def mkt_clearing_investment(A, asset, C, I, Y):\n",
    "    asset_mkt = A - asset\n",
    "    goods_mkt = C + I - Y\n",
    "    return asset_mkt, goods_mkt"
   ]
  },
  {
   "cell_type": "code",
   "execution_count": 52,
   "metadata": {
    "pycharm": {
     "name": "#%%\n"
    }
   },
   "outputs": [],
   "source": [
    "# Models with Investment\n",
    "models['ha_inv'] = sj.create_model([household_simple, firm, finance, investment, mkt_clearing_investment],\n",
    "                                   name=\"HA w/ Investment\")\n",
    "\n",
    "calibration_inv = calibration.copy()\n",
    "calibration_inv.update({'eis': 1., 'r': 0.0125, 'N': 1., 'K': 1.21616, 'deltaK': 0, 'Psi': 1, 'q': 1.,\n",
    "                        'rho_e': 0.85**(1/4), 'sd_e': 0.92, 'n_e': 7, 'min_a': 0., 'max_a': 4 * 1000, 'n_a': 500})\n",
    "calibration_inv_highPsi = calibration_inv.copy()\n",
    "calibration_inv_highPsi['Psi'] = 1e6\n",
    "\n",
    "ss['ha_inv'] = models['ha_inv'].solve_steady_state(calibration_inv, {'beta': 0.95, 'alpha': 0.01, 'Z': 1.},\n",
    "                                                   {'asset_mkt': 0., 'mpk': 0.0125, 'Y': 1.})\n",
    "ss['ha_inv_highPsi'] = models['ha_inv'].solve_steady_state(calibration_inv_highPsi, {'beta': 0.95, 'alpha': 0.01, 'Z': 1.},\n",
    "                                                           {'asset_mkt': 0., 'mpk': 0.0125, 'Y': 1.})"
   ]
  },
  {
   "cell_type": "code",
   "execution_count": 53,
   "metadata": {
    "pycharm": {
     "name": "#%%\n"
    }
   },
   "outputs": [
    {
     "data": {
      "image/png": "[encoded data removed]",
      "text/plain": [
       "<Figure size 576x273.6 with 2 Axes>"
      ]
     },
     "metadata": {
      "needs_background": "light"
     },
     "output_type": "display_data"
    }
   ],
   "source": [
    "T = 300\n",
    "dr_ante = -0.7 ** np.arange(T)\n",
    "\n",
    "irf_inv = {}\n",
    "for Psi in [1e6, 1]:\n",
    "    irf_inv[Psi] = {}\n",
    "    if Psi == 1:\n",
    "        irf_inv_aux = models['ha_inv'].solve_impulse_linear(ss['ha_inv'], ['N', 'K', 'q'],\n",
    "                                                            ['asset_mkt', 'inv', 'val'], {'r_ante': dr_ante})\n",
    "        irf_inv[Psi]['C'], irf_inv[Psi]['I'] = irf_inv_aux['C'], irf_inv_aux['I']\n",
    "    else:\n",
    "        irf_inv_aux = models['ha_inv'].solve_impulse_linear(ss['ha_inv_highPsi'], ['N', 'K', 'q'],\n",
    "                                                            ['asset_mkt', 'inv', 'val'], {'r_ante': dr_ante})\n",
    "        irf_inv[Psi]['C'], irf_inv[Psi]['I'] = irf_inv_aux['C'], irf_inv_aux['I']\n",
    "\n",
    "# Plot\n",
    "Tplot = 20\n",
    "fig1, (ax1, ax2) = plt.subplots(1, 2, figsize=(8, 3.8))\n",
    "ax1.plot(irf_inv[1e6]['C'][:Tplot], label='C')\n",
    "ax1.plot(irf_inv[1e6]['I'][:Tplot], label='I')\n",
    "ax1.set_title(r\"HA model with $\\Psi=\\infty$\")\n",
    "ax1.set_xlabel(r\"Year $(t)$\")\n",
    "ax1.set_ylabel('Percent of $Y_{ss}$')\n",
    "ax1.set_ylim([-1, 5.5])\n",
    "ax1.legend(framealpha=0)\n",
    "ax2.plot(irf_inv[1]['C'][:Tplot], label = 'C')\n",
    "ax2.plot(irf_inv[1]['I'][:Tplot], label = 'I')\n",
    "ax2.set_title(r\"HA model with $\\Psi=1$\")\n",
    "ax2.set_xlabel(r\"Year $(t)$\")\n",
    "ax2.set_ylabel('Percent of $Y_{ss}$')\n",
    "ax2.set_ylim([-1, 5.5])\n",
    "plt.tight_layout()\n",
    "plt.show()"
   ]
  },
  {
   "cell_type": "markdown",
   "metadata": {},
   "source": [
    "**Exercise 5**: Code up the Taylor rule model from class, replicate the result on the effect of a monetary policy shock (a shock to the Taylor rule) depending on $\\phi$"
   ]
  },
  {
   "cell_type": "markdown",
   "metadata": {
    "pycharm": {
     "name": "#%% md\n"
    }
   },
   "source": [
    "**Solution**"
   ]
  },
  {
   "cell_type": "code",
   "execution_count": 54,
   "metadata": {
    "pycharm": {
     "name": "#%%\n"
    }
   },
   "outputs": [],
   "source": [
    "@sj.simple\n",
    "def nkpc(pi, Y, X, C, theta_w, vphi, frisch, markup_ss, eis, beta):\n",
    "    kappa_w = (1 - theta_w) * (1 - beta * theta_w)/theta_w\n",
    "    piw = pi + X - X(-1)\n",
    "    piwres = kappa_w * (vphi * (Y/X)**(1/frisch) - 1/markup_ss * X * C**(-1/eis)) + beta * piw(1) - piw\n",
    "    return piwres, piw\n",
    "\n",
    "\n",
    "@sj.simple\n",
    "def monetary_taylor(pi, ishock, rss, phi_pi):\n",
    "    i = rss + phi_pi * pi + ishock\n",
    "    r_ante = i - pi(1)\n",
    "    return i, r_ante"
   ]
  },
  {
   "cell_type": "code",
   "execution_count": 55,
   "metadata": {},
   "outputs": [],
   "source": [
    "# Models with monetary policy through a standard nominal Taylor rule\n",
    "models['ha_taylor'] = sj.create_model([household_simple, mkt_clearing_simple, nkpc,\n",
    "                                       ex_post_rate, monetary_taylor], name='HA w/ Taylor Rule')\n",
    "calibration_taylor = calibration.copy()\n",
    "calibration_taylor.update({'X': 1., 'rss': calibration['r_ante'], 'pi': 0., 'ishock': 0.,\n",
    "                           'phi_pi': 1.5, 'theta_w': 0.66, 'frisch': 0.5, 'markup_ss': 1.015})\n",
    "ss['ha_taylor'] = models['ha_taylor'].solve_steady_state(calibration_taylor, {'beta': 0.8, 'vphi': 0.8}, ['asset_mkt', 'piwres'])"
   ]
  },
  {
   "cell_type": "code",
   "execution_count": 56,
   "metadata": {
    "pycharm": {
     "name": "#%%\n"
    }
   },
   "outputs": [
    {
     "data": {
      "image/png": "[encoded data removed]",
      "text/plain": [
       "<Figure size 576x273.6 with 2 Axes>"
      ]
     },
     "metadata": {
      "needs_background": "light"
     },
     "output_type": "display_data"
    }
   ],
   "source": [
    "import copy\n",
    "\n",
    "# Define shock\n",
    "T = 300\n",
    "di = -0.01 * 0.7 ** np.arange(T)\n",
    "\n",
    "# Compute IRF in different models\n",
    "G, irf_taylor_Y, irf_taylor_r = {}, {}, {}\n",
    "irf_taylor_Y['ishock'], irf_taylor_Y['X'], irf_taylor_r['ishock'], irf_taylor_r['X'] = {}, {}, {}, {}\n",
    "phi_pi_list = [1, 1.5, 3]\n",
    "for phi_pi in phi_pi_list:\n",
    "    calibration_theta = copy.deepcopy(calibration_taylor)\n",
    "    calibration_theta['phi_pi'] = phi_pi\n",
    "    ss = models['ha_taylor'].solve_steady_state(calibration_theta, {'beta': 0.8, 'vphi': 0.8}, ['asset_mkt', 'piwres'])\n",
    "    irf_taylor_i = models['ha_taylor'].solve_impulse_linear(ss, ['Y', 'pi'], ['asset_mkt', 'piwres'], {'ishock': di})\n",
    "\n",
    "    irf_taylor_Y['ishock'][phi_pi], irf_taylor_r['ishock'][phi_pi] = irf_taylor_i['Y'], irf_taylor_i['r_ante']\n",
    "\n",
    "# Plot\n",
    "Tplot = 10\n",
    "fig, (ax1, ax2) = plt.subplots(1, 2, figsize=(8, 3.8))\n",
    "ax1.set_title('Output response')\n",
    "for m in phi_pi_list:\n",
    "    ax1.plot(100 * irf_taylor_Y['ishock'][m][0:Tplot], label=fr'$\\phi_\\pi =$ {m}')\n",
    "ax1.axhline(y=0, color='#808080', linestyle=':')\n",
    "ax1.set_ylabel('% deviation from ss')\n",
    "ax1.set_xlabel(r'Year $(t)$')\n",
    "ax1.legend(framealpha=0)\n",
    "ax2.set_title('Real interest rate')\n",
    "for m in phi_pi_list:\n",
    "    ax2.plot(100 * irf_taylor_r['ishock'][m][0:Tplot])\n",
    "ax2.set_xlabel(r'Year $(t)$')\n",
    "ax2.set_ylabel('pp deviation from ss')\n",
    "plt.tight_layout()\n",
    "plt.show()"
   ]
  }
 ],
 "metadata": {
  "kernelspec": {
   "display_name": "Python 3 (ipykernel)",
   "language": "python",
   "name": "python3"
  },
  "language_info": {
   "codemirror_mode": {
    "name": "ipython",
    "version": 3
   },
   "file_extension": ".py",
   "mimetype": "text/x-python",
   "name": "python",
   "nbconvert_exporter": "python",
   "pygments_lexer": "ipython3",
   "version": "3.8.13"
  }
 },
 "nbformat": 4,
 "nbformat_minor": 1
}
